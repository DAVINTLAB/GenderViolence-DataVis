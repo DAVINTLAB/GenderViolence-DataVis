{
 "cells": [
  {
   "cell_type": "markdown",
   "metadata": {},
   "source": [
    "Código para unir todas as tabelas em um unico dataset."
   ]
  },
  {
   "cell_type": "code",
   "execution_count": 22,
   "metadata": {},
   "outputs": [],
   "source": [
    "import pandas as pd"
   ]
  },
  {
   "cell_type": "code",
   "execution_count": 23,
   "metadata": {},
   "outputs": [],
   "source": [
    "# Lê os arquivos\n",
    "tabela1 = pd.read_excel('2014 a 2018-1.xlsx')\n",
    "tabela2 = pd.read_excel('2018-2 a 2019.xlsx')\n",
    "tabela3 = pd.read_excel('2020-1.xlsx')\n",
    "tabela4 = pd.read_excel('2020-2 a 2023-2.xlsx')\n",
    "\n",
    "# Unifica as tabelas mantendo as colunas não comuns\n",
    "tabelaUnificada = pd.concat([tabela1, tabela2, tabela3, tabela4], axis=0, ignore_index=True)"
   ]
  },
  {
   "cell_type": "code",
   "execution_count": 25,
   "metadata": {},
   "outputs": [],
   "source": [
    "# Exporta a tabela unificada\n",
    "tabelaUnificada.to_csv('../Inserção de novos dados/2014 a 2023-2.xlsx', index=False)"
   ]
  }
 ],
 "metadata": {
  "kernelspec": {
   "display_name": "Python 3",
   "language": "python",
   "name": "python3"
  },
  "language_info": {
   "codemirror_mode": {
    "name": "ipython",
    "version": 3
   },
   "file_extension": ".py",
   "mimetype": "text/x-python",
   "name": "python",
   "nbconvert_exporter": "python",
   "pygments_lexer": "ipython3",
   "version": "3.12.4"
  }
 },
 "nbformat": 4,
 "nbformat_minor": 2
}
