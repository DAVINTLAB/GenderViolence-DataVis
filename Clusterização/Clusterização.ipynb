{
 "cells": [
  {
   "cell_type": "markdown",
   "metadata": {},
   "source": [
    "# Sobre clusterização\n",
    "\n",
    "1) https://medium.com/turing-talks/clustering-conceitos-básicos-principais-algoritmos-e-aplicação-ace572a062a9\n",
    "\n",
    "2) https://blog.somostera.com/data-science/clusterização-de-dados\n",
    "\n",
    "3) https://www.sciencedirect.com/science/article/pii/S0167865509002323"
   ]
  },
  {
   "cell_type": "code",
   "execution_count": 1,
   "metadata": {},
   "outputs": [],
   "source": [
    "import pandas as pd\n",
    "import category_encoders as ce\n",
    "import plotly.express as px\n",
    "import matplotlib.pyplot as plt\n",
    "import seaborn as sns\n",
    "import dash\n",
    "import numpy as np\n",
    "from PIL import Image\n",
    "from dash import dcc, html\n",
    "from dash.dependencies import Input, Output\n",
    "from sklearn.cluster import KMeans\n",
    "from kmodes.kmodes import KModes"
   ]
  },
  {
   "cell_type": "markdown",
   "metadata": {},
   "source": [
    "# Pré-processamento"
   ]
  },
  {
   "cell_type": "markdown",
   "metadata": {},
   "source": [
    "Pré-processamento. Pode envolver:\n",
    "\n",
    "1) Remoção de outliers: outliers são observações que se desviam significativamente das outras observações no conjunto de dados (seja por ser um valor muito maior ou menor que os demais) e podem distorcer os resultados da clusterização, puxando o centro de um cluster em sua direção ou criando clusters adicionais desnecessários;\n",
    "\n",
    "2) Normalização de variáveis: a normalização (ou padronização) das variáveis é essencial, especialmente quando as variáveis estão em diferentes escalas ou unidades;\n",
    "\n",
    "3) Codificação de categorias: para métodos de clusterização que operam em espaço métrico/númerico, como o K-Means, é necessário converter variáveis categóricas em formatos numéricos através de técnicas como codificação One-Hot ou Binary Encoding;\n",
    "\n",
    "4) Tratamento de valores nulos: valores nulos podem distorcer a análise de clusterização se não forem adequadamente tratados. Estratégias comuns para lidar com valores nulos incluem imputação, onde valores nulos são substituídos por um valor estimado com base em outras observações (média, mediana ou um valor predito por um modelo), e exclusão, onde linhas ou colunas com valores nulos são removidas;\n",
    "\n",
    "5) Redução de Dimensionalidade: em conjuntos de dados com alta dimensionalidade (muitas colunas), técnicas de redução de dimensionalidade, como PCA (Análise de Componentes Principais) ou t-SNE, podem ser aplicadas para simplificar os dados sem perder informações essenciais. Isso pode melhorar a eficiência computacional e a qualidade dos clusters, facilitando a identificação de estruturas nos dados;\n"
   ]
  },
  {
   "cell_type": "code",
   "execution_count": 2,
   "metadata": {},
   "outputs": [],
   "source": [
    "def FiltraTabela(df, nullValuesPercentAcceptable, uniqueValuesCountAcceptable): \n",
    "    # Define um novo dataset com as colunas que possuem um número de valores nulos e occorrências únicas aceitáveis para a codificação,\n",
    "    # diminuido assim a dimensionalidade\n",
    "    selectedColumns = []\n",
    "\n",
    "    # Padronização de valores ausentes. Define os valores em ausentes como \"NULO\"\n",
    "    df = df.applymap(lambda x: \"NULO\" if pd.isnull(x) else x)\n",
    "\n",
    "    # Para cada coluna do dataset\n",
    "    for column in df:\n",
    "        # Cálculo da porcentagem de valores nulos\n",
    "        nullValuesPercent = (df[column].value_counts().get('NULO', 0) * 100) / len(df)\n",
    "\n",
    "        # Cálculo do número de ocorrências únicas\n",
    "        uniqueValuesCount = df[column].nunique()\n",
    "\n",
    "        # Prints para verificação\n",
    "        print(f'Coluna: {column}')\n",
    "        print(f'Porcentagem de Valores Nulos: {nullValuesPercent:.2f}%')\n",
    "        print(f'Número de Valores Únicos: {uniqueValuesCount}')\n",
    "\n",
    "        # Condição para compôr o novo dataset\n",
    "        if nullValuesPercent < nullValuesPercentAcceptable and uniqueValuesCount < uniqueValuesCountAcceptable:\n",
    "            selectedColumns.append(column)\n",
    "            print(\"Inserido\\n\")\n",
    "        else:\n",
    "            print(\"Não Inserido\\n\")\n",
    "\n",
    "    # Cria uma cópia com as colunas definidas anteriormente.\n",
    "    dfFiltered = df[selectedColumns].copy()\n",
    "\n",
    "    # Define todas as colunas do dataset como string\n",
    "    dfFiltered = dfFiltered.astype(str)\n",
    "\n",
    "    return dfFiltered\n",
    "\n",
    "def RemoveLinhasComNulos(df):\n",
    "    # Remove as linhas com valores nulos\n",
    "    df.dropna(inplace=True)\n",
    "\n",
    "    # Define todas as colunas do dataset como string\n",
    "    df = df.astype(str)\n",
    "\n",
    "    return df\n",
    "\n"
   ]
  },
  {
   "cell_type": "code",
   "execution_count": 3,
   "metadata": {},
   "outputs": [
    {
     "data": {
      "text/plain": [
       "Index(['Data de cadastro', 'Tipo de violência', 'Violência familiar',\n",
       "       'Denunciante', 'Filhos vítima', 'Dependência Financeira da Vítima',\n",
       "       'Sexo da vítima', 'Raça\\Cor da vítima', 'Faixa etária da vítima',\n",
       "       'Grau de instrução da vítima', 'Frequência', 'Coabitação contexto',\n",
       "       'Tempo de violência contexto', 'Risco contexto',\n",
       "       'Relação vítima-suspeito', 'Sexo do suspeito', 'Raça\\Cor do suspeito',\n",
       "       'Faixa etária do suspeito', 'Grau de instrução do suspeito',\n",
       "       'Drogas Álcool Suspeito', 'Comportamento efeito agressor',\n",
       "       'Filhos violência', 'Violações', 'UF', 'Município', 'Residência'],\n",
       "      dtype='object')"
      ]
     },
     "execution_count": 3,
     "metadata": {},
     "output_type": "execute_result"
    }
   ],
   "source": [
    "# Leitura do arquivo\n",
    "nomeDoArquivo = \"2014 a 2018-1\"\n",
    "data = pd.read_excel(nomeDoArquivo + \".xlsx\")\n",
    "backup = data.copy()\n",
    "\n",
    "# Print dos nomes das colunas\n",
    "data.columns"
   ]
  },
  {
   "cell_type": "code",
   "execution_count": 4,
   "metadata": {},
   "outputs": [],
   "source": [
    "numeroDeEpocas = 900"
   ]
  },
  {
   "cell_type": "code",
   "execution_count": 5,
   "metadata": {},
   "outputs": [],
   "source": [
    "# Label para especificar detalhes nos nomes dos arquivos e gráficos\n",
    "info = f'Todo país. {numeroDeEpocas} épocas'"
   ]
  },
  {
   "cell_type": "code",
   "execution_count": null,
   "metadata": {},
   "outputs": [],
   "source": [
    "# Visualização dos valores nulos com um heatmap\n",
    "plt.figure(figsize=(20, 10)) \n",
    "sns.heatmap(data.isnull(), cbar=False, cmap='viridis')\n",
    "plt.show()\n",
    "\n",
    "numeroDeLinhasComNulo = data.isnull().any(axis=1).sum()\n",
    "numeroDeLinhasSemNulo = data.notnull().all(axis=1).sum()\n",
    "totalDeLinhas = len(data)\n",
    "print(f\"Linhas sem valores nulos: {numeroDeLinhasSemNulo}/{totalDeLinhas} ({numeroDeLinhasSemNulo/totalDeLinhas:.2%})\")"
   ]
  },
  {
   "cell_type": "markdown",
   "metadata": {},
   "source": [
    "# Filtragem pelo Rio Grande do Sul"
   ]
  },
  {
   "cell_type": "code",
   "execution_count": 4,
   "metadata": {},
   "outputs": [],
   "source": [
    "# Label para especificar detalhes nos nomes dos arquivos e gráficos\n",
    "info = f'Apenas RS. {numeroDeEpocas} épocas'"
   ]
  },
  {
   "cell_type": "code",
   "execution_count": null,
   "metadata": {},
   "outputs": [],
   "source": [
    "data = data[data['UF'] == 'RS']\n",
    "\n",
    "# Visualização dos valores nulos com um heatmap\n",
    "plt.figure(figsize=(20, 10)) \n",
    "sns.heatmap(data.isnull(), cbar=False, cmap='viridis')\n",
    "plt.show()\n",
    "\n",
    "numeroDeLinhasComNulo = data.isnull().any(axis=1).sum()\n",
    "numeroDeLinhasSemNulo = data.notnull().all(axis=1).sum()\n",
    "totalDeLinhas = len(data)\n",
    "print(f\"Linhas sem valores nulos: {numeroDeLinhasSemNulo}/{totalDeLinhas} ({numeroDeLinhasSemNulo/totalDeLinhas:.2%})\")"
   ]
  },
  {
   "cell_type": "markdown",
   "metadata": {},
   "source": [
    "# Escolha do Número de Clusters e Algoritmos de Inicialização \n",
    "\n",
    "A determinação do número adequado de clusters é fundamental para a preparação de modelos, principalmente para aqueles que utilizam métodos de clusterização que exigem a definição de uma quantidade préviamente, como o K-Modes e K-Means. \n",
    "\n",
    "O número de clusters pode, em alguns casos, ser facilmente determinado a partir do contexto de onde foram tirados os dados. Para dados de vendas de uma loja, por exemplo, o número de clusters pode ser referente ao número de produtos que a loja vende, de maneira que cada cluster representa o perfil do cliente que o consome. \n",
    "\n",
    "Se não, métodos como o Elbow Method, o Silhouette Score ou o Davies-Bouldin Index podem ajudar a estimar um número ótimo de clusters baseando-se na coesão interna dos clusters e na separação entre eles.\n",
    "\n",
    "Aqui será usado o Elbow Method para encontrar um K (número de clusters) ótimo para nosso data set, com diferentes algoritmos de escolha para os valores iniciais de referência (modes) de cada cluster.\n",
    "\n",
    "Todas as execuções serão feitas 5 vezes (n_init = 5) para garantir que não hajam tendências na geração de números aleatórios."
   ]
  },
  {
   "cell_type": "markdown",
   "metadata": {},
   "source": [
    "# Clusterização com K-Modes\n",
    "\n",
    "1) https://pypi.org/project/kmodes/ \n",
    "\n",
    "2) https://harikabonthu96.medium.com/kmodes-clustering-2286a9bfdcfb\n",
    "\n",
    "3) https://awari.com.br/aprenda-a-utilizar-o-k-modes-com-python-para-analise-de-dados/?utm_source=blog&utm_campaign=projeto+blog&utm_medium=Aprenda%20a%20Utilizar%20o%20K-Modes%20com%20Python%20para%20Análise%20de%20Dados\n",
    "\n",
    "4) https://link.springer.com/article/10.1007/s00357-001-0004-3"
   ]
  },
  {
   "cell_type": "markdown",
   "metadata": {},
   "source": [
    "## Teste 1\n",
    "\n",
    "Clusterização usando todas as colunas com poucos valores únicos e removendo as linhas com pelo menos um nulo."
   ]
  },
  {
   "cell_type": "code",
   "execution_count": 15,
   "metadata": {},
   "outputs": [],
   "source": [
    "dataSelectedKModesTest1 = data[[\n",
    "                                #'Data de cadastro',\n",
    "                                'Tipo de violência',\n",
    "                                'Violência familiar',\n",
    "                                'Denunciante',\n",
    "                                'Filhos vítima',\n",
    "                                'Dependência Financeira da Vítima',\n",
    "                                'Sexo da vítima',\n",
    "                                'Raça\\\\Cor da vítima',\n",
    "                                'Faixa etária da vítima',\n",
    "                                'Grau de instrução da vítima',\n",
    "                                'Frequência',\n",
    "                                'Coabitação contexto',\n",
    "                                'Tempo de violência contexto',\n",
    "                                'Risco contexto',\n",
    "                                'Relação vítima-suspeito',\n",
    "                                'Sexo do suspeito',\n",
    "                                'Raça\\\\Cor do suspeito',\n",
    "                                'Faixa etária do suspeito',\n",
    "                                'Grau de instrução do suspeito',\n",
    "                                'Drogas Álcool Suspeito',\n",
    "                                'Comportamento efeito agressor',\n",
    "                                'Filhos violência',\n",
    "                                #'Violações',\n",
    "                                'UF',\n",
    "                                #'Município',\n",
    "                                'Residência'\n",
    "                                ]].copy()\n",
    "\n",
    "dataSelectedFilteredKModesTest1 = RemoveLinhasComNulos(dataSelectedKModesTest1)\n",
    "\n",
    "# Definição de com quantos clusters será testado.\n",
    "numbersOfClustersKModesTest1 = range(1,15)\n",
    "\n",
    "# Vetores para armazenar os \"custos\" (medida quantitativa de quão bem os clusters foram formados em termos de homogeneidade interna) para o K-Modes\n",
    "costRandomTest1 = []\n",
    "costCaoTest1 = []\n",
    "costHuangTest1 = []"
   ]
  },
  {
   "cell_type": "code",
   "execution_count": null,
   "metadata": {},
   "outputs": [],
   "source": [
    "# Escolha aleatória dos modes (init = \"random\").\n",
    "for clustersNumber in list(numbersOfClustersKModesTest1):\n",
    "    kmode = KModes(n_clusters=clustersNumber, random_state=42, init = \"random\", n_init = 5, verbose=1, n_jobs = -1, max_iter = numeroDeEpocas)\n",
    "    kmode.fit_predict(dataSelectedFilteredKModesTest1)\n",
    "    costRandomTest1.append(kmode.cost_)"
   ]
  },
  {
   "cell_type": "code",
   "execution_count": null,
   "metadata": {},
   "outputs": [],
   "source": [
    "# Modes escolhidos com base no algoritmo de Cao (init = \"cao\").\n",
    "for clustersNumber in list(numbersOfClustersKModesTest1):\n",
    "    kmode = KModes(n_clusters=clustersNumber, random_state=42, init = \"cao\", n_init = 5, verbose=1, n_jobs = -1, max_iter = numeroDeEpocas)\n",
    "    kmode.fit_predict(dataSelectedFilteredKModesTest1)\n",
    "    costCaoTest1.append(kmode.cost_)"
   ]
  },
  {
   "cell_type": "code",
   "execution_count": null,
   "metadata": {},
   "outputs": [],
   "source": [
    "# Modes escolhidos com base no algoritmo de Huang (init = \"huang\").\n",
    "for clustersNumber in list(numbersOfClustersKModesTest1):\n",
    "    kmode = KModes(n_clusters=clustersNumber, random_state=42, init = \"huang\", n_init = 5, verbose=1, n_jobs = -1, max_iter = numeroDeEpocas)\n",
    "    kmode.fit_predict(dataSelectedFilteredKModesTest1)\n",
    "    costHuangTest1.append(kmode.cost_)"
   ]
  },
  {
   "cell_type": "code",
   "execution_count": null,
   "metadata": {},
   "outputs": [],
   "source": [
    "costsKModesTest1 = pd.DataFrame({\n",
    "    \"Random\" : costRandomTest1,\n",
    "    \"Cao\" : costCaoTest1,\n",
    "    \"Huang\" : costHuangTest1,\n",
    "    \"Número de Clusters\" : numbersOfClustersKModesTest1\n",
    "})\n",
    "\n",
    "# Visualização dos custos\n",
    "figKModesTest1 = px.line(\n",
    "    costsKModesTest1, \n",
    "    x = \"Número de Clusters\", \n",
    "    y = [\"Random\", \"Cao\", \"Huang\"], \n",
    "    title = (\n",
    "        f\"Teste 1: Método do Cotovelo para o KModes com até {len(numbersOfClustersKModesTest1)} clusters. Dataset: {nomeDoArquivo}<br>\"\n",
    "        f\"Linhas com nulo removidas. Colunas Data de Cadastro, Violações e Município removidas. {info}.\"\n",
    "    )\n",
    ")\n",
    "\n",
    "figKModesTest1.update_layout(\n",
    "    xaxis_title=\"Número de Clusters\",\n",
    "    yaxis_title=\"Custo\",\n",
    "    legend_title=\"Método de Inicialização\"\n",
    ")\n",
    "\n",
    "figKModesTest1.show()"
   ]
  },
  {
   "cell_type": "code",
   "execution_count": null,
   "metadata": {},
   "outputs": [],
   "source": [
    "# Exportando o gráfico como uma imagem PNG\n",
    "figKModesTest1.write_image(f\"KModesTeste1{info}.png\", width=1280, height=720)"
   ]
  },
  {
   "cell_type": "code",
   "execution_count": null,
   "metadata": {},
   "outputs": [],
   "source": [
    "modelKModesTest1 = KModes(n_clusters=4, random_state=42, init = \"random\", n_init = 5, verbose=1, n_jobs = -1, max_iter = numeroDeEpocas)\n",
    "modelKModesTest1.fit_predict(dataSelectedFilteredKModesTest1)\n",
    "\n",
    "labelsKModesTest1 = modelKModesTest1.labels_\n",
    "\n",
    "dataSelectedFilteredKModesTest1['Cluster'] = labelsKModesTest1"
   ]
  },
  {
   "cell_type": "code",
   "execution_count": null,
   "metadata": {},
   "outputs": [],
   "source": [
    "fig = px.histogram(dataSelectedFilteredKModesTest1, \n",
    "                   x='Cluster',\n",
    "                   color='Faixa etária do suspeito', \n",
    "                   barmode='group',\n",
    "                   title='Distribuição da Faixa etária do suspeito por Cluster', \n",
    "                   labels={'Cluster': 'Cluster', 'count': 'Contagem'},\n",
    "                   color_discrete_sequence=px.colors.sequential.Viridis,\n",
    "                   #category_orders={'Faixa etária do suspeito': faixa_etaria_ordenada}\n",
    "                   )\n",
    "\n",
    "fig.update_layout(xaxis_title='Cluster', yaxis_title='Contagem', width=1000, height=600)\n",
    "fig.show()"
   ]
  },
  {
   "cell_type": "code",
   "execution_count": null,
   "metadata": {},
   "outputs": [],
   "source": [
    "fig = px.histogram(dataSelectedFilteredKModesTest1, x='Raça\\\\Cor do suspeito', color='Sexo do suspeito',barmode='group', facet_col='Cluster', \n",
    "                   title='Distribuição da Raça\\\\Cor do suspeito por Cluster e Sexo', \n",
    "                   labels={'Raça\\\\Cor do suspeito': 'Raça\\\\Cor do suspeito', 'count': 'Contagem'},\n",
    "                   color_discrete_sequence=px.colors.sequential.Viridis)\n",
    "\n",
    "fig.update_layout(xaxis_title='Raça\\\\Cor do suspeito', yaxis_title='Contagem', width=1000, height=600)\n",
    "fig.show()"
   ]
  },
  {
   "cell_type": "code",
   "execution_count": 17,
   "metadata": {},
   "outputs": [],
   "source": [
    "## Agrupar os dados por 'Cenário da violação' e 'Faixa etária da vítima' e calcular a soma da quantidade de vítimas\n",
    "#df_summary = df_gaucho.groupby(['Cenário da violação', 'Faixa etária da vítima']).size().reset_index(name='Count')\n",
    "#\n",
    "## Criar uma coluna de valor fictício para o treemap\n",
    "#df_summary['value'] = df_summary['Count']\n",
    "#\n",
    "## Criar uma coluna com os caminhos para o treemap\n",
    "#df_summary['path'] = df_summary['Cenário da violação'] + \" - \" + df_summary['Faixa etária da vítima']\n",
    "## Criar o gráfico de treemap\n",
    "#fig = px.treemap(df_summary,\n",
    "#                 path=['Faixa etária da vítima', 'Cenário da violação'],\n",
    "#                 values='value',\n",
    "#                 color='value',\n",
    "#                 color_continuous_scale='Viridis',\n",
    "#                 title='Distribuição por Faixa Etária da Vítima e Cenário de Violação',\n",
    "#                 color_continuous_midpoint=np.average(df_summary['value']),\n",
    "#                 hover_data=['path'])\n",
    "#\n",
    "## Ajustes no layout do gráfico\n",
    "#fig.update_layout(margin=dict(t=50, l=25, r=25, b=25),height=1500)\n",
    "#fig.show()\n",
    "\n"
   ]
  },
  {
   "cell_type": "markdown",
   "metadata": {},
   "source": [
    "## Teste 2\n",
    "\n",
    "Teste de clusterização sobre colunas especificas de perfil de vítima e suspeito, para as duas codificações. Colunas usadas:\n",
    "\n",
    " 'Sexo da vítima',\n",
    " 'Sexo do suspeito', \n",
    " 'Raça\\Cor da vítima', \n",
    " 'Raça\\Cor do suspeito',\n",
    " 'Faixa etária da vítima', \n",
    " 'Faixa etária do suspeito',\n",
    " 'Grau de instrução da vítima', \n",
    " 'Grau de instrução do suspeito'"
   ]
  },
  {
   "cell_type": "code",
   "execution_count": 8,
   "metadata": {},
   "outputs": [],
   "source": [
    "# Seleciona as colunas que serão utilizadas\n",
    "dataSelectedKModesTest2 = data[['Sexo da vítima',\n",
    "                                'Sexo do suspeito',\n",
    "                                'Raça\\\\Cor da vítima',\n",
    "                                'Raça\\\\Cor do suspeito',\n",
    "                                'Faixa etária da vítima',\n",
    "                                'Faixa etária do suspeito',\n",
    "                                'Grau de instrução da vítima',\n",
    "                                'Grau de instrução do suspeito']].copy()\n",
    "\n",
    "dataSelectedFilteredKModesTest2 = RemoveLinhasComNulos(dataSelectedKModesTest2)\n",
    "\n",
    "# Definição de com quantos clusters será testado.\n",
    "numbersOfClustersKModesTest2 = range(1,15)\n",
    "\n",
    "# Vetores para armazenar os \"custos\" (medida quantitativa de quão bem os clusters foram formados em termos de homogeneidade interna) para o K-Modes\n",
    "costRandomTest2 = []\n",
    "costCaoTest2 = []\n",
    "costHuangTest2 = []"
   ]
  },
  {
   "cell_type": "code",
   "execution_count": null,
   "metadata": {},
   "outputs": [],
   "source": [
    "# Escolha aleatória dos modes (init = \"random\").\n",
    "for clustersNumber in list(numbersOfClustersKModesTest2):\n",
    "    kmode = KModes(n_clusters=clustersNumber, random_state=42, init = \"random\", n_init = 5, verbose=1, n_jobs = -1, max_iter = numeroDeEpocas)\n",
    "    kmode.fit_predict(dataSelectedFilteredKModesTest2)\n",
    "    costRandomTest2.append(kmode.cost_)"
   ]
  },
  {
   "cell_type": "code",
   "execution_count": null,
   "metadata": {},
   "outputs": [],
   "source": [
    "# Modes escolhidos com base no algoritmo de Cao (init = \"cao\").\n",
    "for clustersNumber in list(numbersOfClustersKModesTest2):\n",
    "    kmode = KModes(n_clusters=clustersNumber, random_state=42, init = \"cao\", n_init = 5, verbose=1, n_jobs = -1, max_iter = numeroDeEpocas)\n",
    "    kmode.fit_predict(dataSelectedFilteredKModesTest2)\n",
    "    costCaoTest2.append(kmode.cost_)"
   ]
  },
  {
   "cell_type": "code",
   "execution_count": null,
   "metadata": {},
   "outputs": [],
   "source": [
    "# Modes escolhidos com base no algoritmo de Huang (init = \"huang\").\n",
    "for clustersNumber in list(numbersOfClustersKModesTest2):\n",
    "    kmode = KModes(n_clusters=clustersNumber, random_state=42, init = \"huang\", n_init = 5, verbose=1, n_jobs = -1, max_iter = numeroDeEpocas)\n",
    "    kmode.fit_predict(dataSelectedFilteredKModesTest2)\n",
    "    costHuangTest2.append(kmode.cost_)"
   ]
  },
  {
   "cell_type": "code",
   "execution_count": null,
   "metadata": {},
   "outputs": [],
   "source": [
    "costsKModesTest2 = pd.DataFrame({\n",
    "    \"Random\" : costRandomTest2,\n",
    "    \"Cao\" : costCaoTest2,\n",
    "    \"Huang\" : costHuangTest2,\n",
    "    \"Número de Clusters\" : numbersOfClustersKModesTest2\n",
    "})\n",
    "\n",
    "# Visualização dos custos\n",
    "figKModesTest2 = px.line(\n",
    "    costsKModesTest2, \n",
    "    x = \"Número de Clusters\", \n",
    "    y = [\"Random\", \"Cao\", \"Huang\"], \n",
    "    title = (\n",
    "        f\"Teste 2: Método do Cotovelo para o KModes com até {len(numbersOfClustersKModesTest2)} clusters. Dataset: {nomeDoArquivo}<br>\"\n",
    "        f\"Linhas com nulo removidas. Colunas: Sexo, Raça\\\\Cor, Faixa Etária e Grau de Instrução (vítima e suspeito). {info}.\"\n",
    "    )\n",
    ")\n",
    "\n",
    "figKModesTest2.update_layout(\n",
    "    xaxis_title=\"Número de Clusters\",\n",
    "    yaxis_title=\"Custo\",\n",
    "    legend_title=\"Método de Inicialização\"\n",
    ")\n",
    "\n",
    "figKModesTest2.show()"
   ]
  },
  {
   "cell_type": "code",
   "execution_count": 23,
   "metadata": {},
   "outputs": [],
   "source": [
    "# Exportando o gráfico como uma imagem PNG\n",
    "figKModesTest2.write_image(f\"KModesTeste2{info}.png\", width=1280, height=720)"
   ]
  },
  {
   "cell_type": "code",
   "execution_count": null,
   "metadata": {},
   "outputs": [],
   "source": [
    "modelKModesTest2 = KModes(n_clusters=4, random_state=42, init = \"random\", n_init = 5, verbose=1, n_jobs = -1, max_iter = numeroDeEpocas)\n",
    "modelKModesTest2.fit_predict(dataSelectedFilteredKModesTest2)\n",
    "\n",
    "labelsKModesTest2 = modelKModesTest2.labels_"
   ]
  },
  {
   "cell_type": "markdown",
   "metadata": {},
   "source": [
    "## Teste 3\n",
    "\n",
    "Teste de clusterização sobre colunas especificas de perfil apenas da vítima para as duas codificações. Colunas usadas:\n",
    "\n",
    " 'Sexo da vítima', \n",
    " 'Raça\\Cor da vítima',\n",
    " 'Faixa etária da vítima', \n",
    " 'Grau de instrução da vítima', \n"
   ]
  },
  {
   "cell_type": "code",
   "execution_count": 10,
   "metadata": {},
   "outputs": [],
   "source": [
    "# Seleciona as colunas que serão utilizadas\n",
    "dataSelectedKModesTest3 = data[['Sexo da vítima',\n",
    "                                'Raça\\\\Cor da vítima',\n",
    "                                'Faixa etária da vítima',\n",
    "                                'Grau de instrução da vítima']].copy()\n",
    "\n",
    "dataSelectedFilteredKModesTest3 = RemoveLinhasComNulos(dataSelectedKModesTest3)\n",
    "\n",
    "# Definição de com quantos clusters será testado.\n",
    "numbersOfClustersKModesTest3 = range(1,15)\n",
    "\n",
    "# Vetores para armazenar os \"custos\" (medida quantitativa de quão bem os clusters foram formados em termos de homogeneidade interna) para o K-Modes\n",
    "costRandomTest3 = []\n",
    "costCaoTest3 = []\n",
    "costHuangTest3 = []"
   ]
  },
  {
   "cell_type": "code",
   "execution_count": null,
   "metadata": {},
   "outputs": [],
   "source": [
    "# Escolha aleatória dos modes (init = \"random\").\n",
    "for clustersNumber in list(numbersOfClustersKModesTest3):\n",
    "    kmode = KModes(n_clusters=clustersNumber, random_state=42, init = \"random\", n_init = 5, verbose=1, n_jobs = -1, max_iter = numeroDeEpocas)\n",
    "    kmode.fit_predict(dataSelectedFilteredKModesTest3)\n",
    "    costRandomTest3.append(kmode.cost_)"
   ]
  },
  {
   "cell_type": "code",
   "execution_count": null,
   "metadata": {},
   "outputs": [],
   "source": [
    "# Modes escolhidos com base no algoritmo de Cao (init = \"cao\").\n",
    "for clustersNumber in list(numbersOfClustersKModesTest3):\n",
    "    kmode = KModes(n_clusters=clustersNumber, random_state=42, init = \"cao\", n_init = 5, verbose=1, n_jobs = -1, max_iter = numeroDeEpocas)\n",
    "    kmode.fit_predict(dataSelectedFilteredKModesTest3)\n",
    "    costCaoTest3.append(kmode.cost_)"
   ]
  },
  {
   "cell_type": "code",
   "execution_count": null,
   "metadata": {},
   "outputs": [],
   "source": [
    "# Modes escolhidos com base no algoritmo de Huang (init = \"huang\").\n",
    "for clustersNumber in list(numbersOfClustersKModesTest3):\n",
    "    kmode = KModes(n_clusters=clustersNumber, random_state=42, init = \"huang\", n_init = 5, verbose=1, n_jobs = -1, max_iter = numeroDeEpocas)\n",
    "    kmode.fit_predict(dataSelectedFilteredKModesTest3)\n",
    "    costHuangTest3.append(kmode.cost_)"
   ]
  },
  {
   "cell_type": "code",
   "execution_count": null,
   "metadata": {},
   "outputs": [],
   "source": [
    "costsKModesTest3 = pd.DataFrame({\n",
    "    \"Random\" : costRandomTest3,\n",
    "    \"Cao\" : costCaoTest3,\n",
    "    \"Huang\" : costHuangTest3,\n",
    "    \"Número de Clusters\" : numbersOfClustersKModesTest3\n",
    "})\n",
    "\n",
    "# Visualização dos custos\n",
    "figKModesTest3 = px.line(\n",
    "    costsKModesTest3, \n",
    "    x = \"Número de Clusters\", \n",
    "    y = [\"Random\", \"Cao\", \"Huang\"], \n",
    "    title = (\n",
    "        f\"Teste 3: Método do Cotovelo para o KModes com até {len(numbersOfClustersKModesTest3)} clusters. Dataset: {nomeDoArquivo}<br>\"\n",
    "        f\"Linhas com nulo removidas. Colunas: Sexo, Raça\\\\Cor, Faixa Etária e Grau de Instrução (apenas de vítimas). {info}.\"\n",
    "    )\n",
    ")\n",
    "\n",
    "figKModesTest3.update_layout(\n",
    "    xaxis_title=\"Número de Clusters\",\n",
    "    yaxis_title=\"Custo\",\n",
    "    legend_title=\"Método de Inicialização\"\n",
    ")\n",
    "\n",
    "figKModesTest3.show()"
   ]
  },
  {
   "cell_type": "code",
   "execution_count": 30,
   "metadata": {},
   "outputs": [],
   "source": [
    "# Exportando o gráfico como uma imagem PNG\n",
    "figKModesTest3.write_image(f\"KModesTeste3{info}.png\", width=1280, height=720)"
   ]
  },
  {
   "cell_type": "code",
   "execution_count": null,
   "metadata": {},
   "outputs": [],
   "source": [
    "modelKModesTest3 = KModes(n_clusters=4, random_state=42, init = \"random\", n_init = 5, verbose=1, n_jobs = -1, max_iter = numeroDeEpocas)\n",
    "modelKModesTest3.fit_predict(dataSelectedFilteredKModesTest3)\n",
    "\n",
    "labelsKModesTest3 = modelKModesTest3.labels_"
   ]
  },
  {
   "cell_type": "markdown",
   "metadata": {},
   "source": [
    "## Teste 4\n",
    "\n",
    "Teste de clusterização sobre colunas especificas de perfil do suspeito, para as duas codificações. Colunas usadas:\n",
    "\n",
    " 'Sexo do suspeito',\n",
    " 'Raça\\Cor do suspeito', \n",
    " 'Faixa etária do suspeito', \n",
    " 'Grau de instrução do suspeito'"
   ]
  },
  {
   "cell_type": "code",
   "execution_count": 12,
   "metadata": {},
   "outputs": [],
   "source": [
    "# Seleciona as colunas que serão utilizadas\n",
    "dataSelectedKModesTest4 = data[['Sexo do suspeito',\n",
    "                                'Raça\\\\Cor do suspeito',\n",
    "                                'Faixa etária do suspeito',\n",
    "                                'Grau de instrução do suspeito']].copy()\n",
    "\n",
    "dataSelectedFilteredKModesTest4 = RemoveLinhasComNulos(dataSelectedKModesTest4)\n",
    "\n",
    "# Definição de com quantos clusters será testado.\n",
    "numbersOfClustersKModesTest4 = range(1,15)\n",
    "\n",
    "# Vetores para armazenar os \"custos\" (medida quantitativa de quão bem os clusters foram formados em termos de homogeneidade interna) para o K-Modes\n",
    "costRandomTest4 = []\n",
    "costCaoTest4 = []\n",
    "costHuangTest4 = []"
   ]
  },
  {
   "cell_type": "code",
   "execution_count": null,
   "metadata": {},
   "outputs": [],
   "source": [
    "# Escolha aleatória dos modes (init = \"random\").\n",
    "for clustersNumber in list(numbersOfClustersKModesTest4):\n",
    "    kmode = KModes(n_clusters=clustersNumber, init = \"random\", n_init = 5, verbose=1, n_jobs = -1, max_iter = numeroDeEpocas)\n",
    "    kmode.fit_predict(dataSelectedFilteredKModesTest4)\n",
    "    costRandomTest4.append(kmode.cost_)"
   ]
  },
  {
   "cell_type": "code",
   "execution_count": null,
   "metadata": {},
   "outputs": [],
   "source": [
    "# Modes escolhidos com base no algoritmo de Cao (init = \"cao\").\n",
    "for clustersNumber in list(numbersOfClustersKModesTest4):\n",
    "    kmode = KModes(n_clusters=clustersNumber, init = \"cao\", n_init = 5, verbose=1, n_jobs = -1, max_iter = numeroDeEpocas)\n",
    "    kmode.fit_predict(dataSelectedFilteredKModesTest4)\n",
    "    costCaoTest4.append(kmode.cost_)"
   ]
  },
  {
   "cell_type": "code",
   "execution_count": null,
   "metadata": {},
   "outputs": [],
   "source": [
    "# Modes escolhidos com base no algoritmo de Huang (init = \"huang\").\n",
    "for clustersNumber in list(numbersOfClustersKModesTest4):\n",
    "    kmode = KModes(n_clusters=clustersNumber, init = \"huang\", n_init = 5, verbose=1, n_jobs = -1, max_iter = numeroDeEpocas)\n",
    "    kmode.fit_predict(dataSelectedFilteredKModesTest4)\n",
    "    costHuangTest4.append(kmode.cost_)"
   ]
  },
  {
   "cell_type": "code",
   "execution_count": null,
   "metadata": {},
   "outputs": [],
   "source": [
    "costsKModesTest4 = pd.DataFrame({\n",
    "    \"Random\" : costRandomTest4,\n",
    "    \"Cao\" : costCaoTest4,\n",
    "    \"Huang\" : costHuangTest4,\n",
    "    \"Número de Clusters\" : numbersOfClustersKModesTest4\n",
    "})\n",
    "\n",
    "# Visualização dos custos\n",
    "figKModesTest4 = px.line(\n",
    "    costsKModesTest4, \n",
    "    x = \"Número de Clusters\", \n",
    "    y = [\"Random\", \"Cao\", \"Huang\"], \n",
    "    title = (\n",
    "        f\"Teste 4: Método do Cotovelo para o KModes com até {len(numbersOfClustersKModesTest4)} clusters. Dataset: {nomeDoArquivo}<br>\"\n",
    "        f\"Linhas com nulo removidas. Colunas: Sexo, Raça\\\\Cor, Faixa Etária e Grau de Instrução (apenas de suspeitos). {info}.\"\n",
    "    )\n",
    ")\n",
    "\n",
    "figKModesTest4.update_layout(\n",
    "    xaxis_title=\"Número de Clusters\",\n",
    "    yaxis_title=\"Custo\",\n",
    "    legend_title=\"Método de Inicialização\"\n",
    ")\n",
    "\n",
    "figKModesTest4.show()"
   ]
  },
  {
   "cell_type": "code",
   "execution_count": 37,
   "metadata": {},
   "outputs": [],
   "source": [
    "# Exportando o gráfico como uma imagem PNG\n",
    "figKModesTest4.write_image(f\"KModesTeste4{info}.png\", width=1280, height=720)"
   ]
  },
  {
   "cell_type": "code",
   "execution_count": null,
   "metadata": {},
   "outputs": [],
   "source": [
    "modelKModesTest4 = KModes(n_clusters=4, random_state=42, init = \"random\", n_init = 5, verbose=1, n_jobs = -1, max_iter = numeroDeEpocas)\n",
    "modelKModesTest4.fit_predict(dataSelectedFilteredKModesTest4)\n",
    "\n",
    "labelsKModesTest4 = modelKModesTest4.labels_"
   ]
  },
  {
   "cell_type": "markdown",
   "metadata": {},
   "source": [
    "# Clusterização com K-Means"
   ]
  },
  {
   "cell_type": "markdown",
   "metadata": {},
   "source": [
    "## Teste 1\n",
    "\n",
    "Clusterização usando todas as colunas com poucos valores únicos e removendo as linhas com pelo menos um nulo."
   ]
  },
  {
   "cell_type": "code",
   "execution_count": 6,
   "metadata": {},
   "outputs": [
    {
     "data": {
      "image/png": "[encoded data removed]",
      "text/plain": [
       "<Figure size 2000x1000 with 1 Axes>"
      ]
     },
     "metadata": {},
     "output_type": "display_data"
    },
    {
     "name": "stdout",
     "output_type": "stream",
     "text": [
      "Linhas sem valores nulos: 74607/536041 (13.92%)\n"
     ]
    }
   ],
   "source": [
    "dataSelectedKMeansTest1 = data[[\n",
    "                     #'Data de cadastro',\n",
    "                     'Tipo de violência',\n",
    "                     'Violência familiar',\n",
    "                     'Denunciante',\n",
    "                     'Filhos vítima',\n",
    "                     'Dependência Financeira da Vítima',\n",
    "                     'Sexo da vítima',\n",
    "                     'Raça\\\\Cor da vítima',\n",
    "                     'Faixa etária da vítima',\n",
    "                     'Grau de instrução da vítima',\n",
    "                     'Frequência',\n",
    "                     'Coabitação contexto',\n",
    "                     'Tempo de violência contexto',\n",
    "                     'Risco contexto',\n",
    "                     'Relação vítima-suspeito',\n",
    "                     'Sexo do suspeito',\n",
    "                     'Raça\\\\Cor do suspeito',\n",
    "                     'Faixa etária do suspeito',\n",
    "                     'Grau de instrução do suspeito',\n",
    "                     'Drogas Álcool Suspeito',\n",
    "                     'Comportamento efeito agressor',\n",
    "                     'Filhos violência',\n",
    "                     #'Violações',\n",
    "                     'UF',\n",
    "                     #'Município',\n",
    "                     'Residência'\n",
    "                    ]].copy()\n",
    "\n",
    "# Visualização dos valores nulos com um heatmap\n",
    "plt.figure(figsize=(20, 10)) \n",
    "sns.heatmap(dataSelectedKMeansTest1.isnull(), cbar=False, cmap='viridis')\n",
    "plt.show()\n",
    "\n",
    "numeroDeLinhasComNulo = dataSelectedKMeansTest1.isnull().any(axis=1).sum()\n",
    "numeroDeLinhasSemNulo = dataSelectedKMeansTest1.notnull().all(axis=1).sum()\n",
    "totalDeLinhas = len(dataSelectedKMeansTest1)\n",
    "print(f\"Linhas sem valores nulos: {numeroDeLinhasSemNulo}/{totalDeLinhas} ({numeroDeLinhasSemNulo/totalDeLinhas:.2%})\")\n",
    "\n",
    "# Remove as linhas com valores nulos\n",
    "dataSelectedKMeansTest1 = RemoveLinhasComNulos(dataSelectedKMeansTest1)"
   ]
  },
  {
   "cell_type": "markdown",
   "metadata": {},
   "source": [
    "### Teste 1.1\n",
    "\n",
    "**Codificação**: Binária"
   ]
  },
  {
   "cell_type": "code",
   "execution_count": 7,
   "metadata": {},
   "outputs": [],
   "source": [
    "# Aplica a codificação Binária\n",
    "codificador = ce.BinaryEncoder(cols=dataSelectedKMeansTest1.columns)\n",
    "dataSelectedEncodedBinaryKMeansTest1_1 = codificador.fit_transform(dataSelectedKMeansTest1) \n",
    "\n",
    "# Definição de com quantos clusters será testado.\n",
    "numbersOfClustersKMeansTest1_1 = range(1, 15)\n",
    "\n",
    "# Vetores para armazenar os \"custos\" (medida quantitativa de quão bem os clusters foram formados em termos de homogeneidade interna) para o K-Means\n",
    "inertiaRandomTest1_1 = []\n",
    "inertiaKMeansTest1_1 = []"
   ]
  },
  {
   "cell_type": "code",
   "execution_count": 8,
   "metadata": {},
   "outputs": [],
   "source": [
    "# Calculando a inertia para a inicialização 'random'\n",
    "for clustersNumber in numbersOfClustersKMeansTest1_1:\n",
    "    kmeans_random = KMeans(n_clusters=clustersNumber, init='random', random_state=42, n_init = 1, max_iter = numeroDeEpocas, algorithm = 'lloyd', verbose=0)\n",
    "    kmeans_random.fit(dataSelectedEncodedBinaryKMeansTest1_1)\n",
    "    inertiaRandomTest1_1.append(kmeans_random.inertia_)"
   ]
  },
  {
   "cell_type": "code",
   "execution_count": 9,
   "metadata": {},
   "outputs": [],
   "source": [
    "# Calculando a inertia para a inicialização 'k-means++'\n",
    "for clustersNumber in numbersOfClustersKMeansTest1_1:\n",
    "    kmeans_kmeans = KMeans(n_clusters=clustersNumber, init='k-means++', random_state=42, n_init = 1, max_iter = numeroDeEpocas, algorithm = 'lloyd', verbose=0)\n",
    "    kmeans_kmeans.fit(dataSelectedEncodedBinaryKMeansTest1_1)\n",
    "    inertiaKMeansTest1_1.append(kmeans_kmeans.inertia_)"
   ]
  },
  {
   "cell_type": "code",
   "execution_count": 10,
   "metadata": {},
   "outputs": [
    {
     "data": {
      "application/vnd.plotly.v1+json": {
       "config": {
        "plotlyServerURL": "https://plot.ly"
       },
       "data": [
        {
         "hovertemplate": "variable=Random<br>Número de Clusters=%{x}<br>value=%{y}<extra></extra>",
         "legendgroup": "Random",
         "line": {
          "color": "#636efa",
          "dash": "solid"
         },
         "marker": {
          "symbol": "circle"
         },
         "mode": "lines",
         "name": "Random",
         "orientation": "v",
         "showlegend": true,
         "type": "scatter",
         "x": [
          1,
          2,
          3,
          4,
          5,
          6,
          7,
          8,
          9,
          10,
          11,
          12,
          13,
          14
         ],
         "xaxis": "x",
         "y": [
          904596.0831825419,
          874336.1571613459,
          848150.1203509253,
          834830.9669574621,
          822243.2119785969,
          812569.1509106813,
          805253.9718186563,
          798223.0586513706,
          791612.2275875023,
          788114.6263588408,
          782948.011164358,
          777549.892959958,
          773225.7965542173,
          768798.822717922
         ],
         "yaxis": "y"
        },
        {
         "hovertemplate": "variable=K-Means++<br>Número de Clusters=%{x}<br>value=%{y}<extra></extra>",
         "legendgroup": "K-Means++",
         "line": {
          "color": "#EF553B",
          "dash": "solid"
         },
         "marker": {
          "symbol": "circle"
         },
         "mode": "lines",
         "name": "K-Means++",
         "orientation": "v",
         "showlegend": true,
         "type": "scatter",
         "x": [
          1,
          2,
          3,
          4,
          5,
          6,
          7,
          8,
          9,
          10,
          11,
          12,
          13,
          14
         ],
         "xaxis": "x",
         "y": [
          904596.0831825419,
          874299.581705226,
          848923.3726950428,
          834606.4871034962,
          823563.3218154943,
          815764.2861785768,
          805301.8424644388,
          798004.953194024,
          792009.8462671691,
          787404.0748833638,
          781630.8198932745,
          776117.0137273245,
          772373.6424795191,
          768791.9809607164
         ],
         "yaxis": "y"
        }
       ],
       "layout": {
        "legend": {
         "title": {
          "text": "Método de Inicialização"
         },
         "tracegroupgap": 0
        },
        "template": {
         "data": {
          "bar": [
           {
            "error_x": {
             "color": "#2a3f5f"
            },
            "error_y": {
             "color": "#2a3f5f"
            },
            "marker": {
             "line": {
              "color": "#E5ECF6",
              "width": 0.5
             },
             "pattern": {
              "fillmode": "overlay",
              "size": 10,
              "solidity": 0.2
             }
            },
            "type": "bar"
           }
          ],
          "barpolar": [
           {
            "marker": {
             "line": {
              "color": "#E5ECF6",
              "width": 0.5
             },
             "pattern": {
              "fillmode": "overlay",
              "size": 10,
              "solidity": 0.2
             }
            },
            "type": "barpolar"
           }
          ],
          "carpet": [
           {
            "aaxis": {
             "endlinecolor": "#2a3f5f",
             "gridcolor": "white",
             "linecolor": "white",
             "minorgridcolor": "white",
             "startlinecolor": "#2a3f5f"
            },
            "baxis": {
             "endlinecolor": "#2a3f5f",
             "gridcolor": "white",
             "linecolor": "white",
             "minorgridcolor": "white",
             "startlinecolor": "#2a3f5f"
            },
            "type": "carpet"
           }
          ],
          "choropleth": [
           {
            "colorbar": {
             "outlinewidth": 0,
             "ticks": ""
            },
            "type": "choropleth"
           }
          ],
          "contour": [
           {
            "colorbar": {
             "outlinewidth": 0,
             "ticks": ""
            },
            "colorscale": [
             [
              0,
              "#0d0887"
             ],
             [
              0.1111111111111111,
              "#46039f"
             ],
             [
              0.2222222222222222,
              "#7201a8"
             ],
             [
              0.3333333333333333,
              "#9c179e"
             ],
             [
              0.4444444444444444,
              "#bd3786"
             ],
             [
              0.5555555555555556,
              "#d8576b"
             ],
             [
              0.6666666666666666,
              "#ed7953"
             ],
             [
              0.7777777777777778,
              "#fb9f3a"
             ],
             [
              0.8888888888888888,
              "#fdca26"
             ],
             [
              1,
              "#f0f921"
             ]
            ],
            "type": "contour"
           }
          ],
          "contourcarpet": [
           {
            "colorbar": {
             "outlinewidth": 0,
             "ticks": ""
            },
            "type": "contourcarpet"
           }
          ],
          "heatmap": [
           {
            "colorbar": {
             "outlinewidth": 0,
             "ticks": ""
            },
            "colorscale": [
             [
              0,
              "#0d0887"
             ],
             [
              0.1111111111111111,
              "#46039f"
             ],
             [
              0.2222222222222222,
              "#7201a8"
             ],
             [
              0.3333333333333333,
              "#9c179e"
             ],
             [
              0.4444444444444444,
              "#bd3786"
             ],
             [
              0.5555555555555556,
              "#d8576b"
             ],
             [
              0.6666666666666666,
              "#ed7953"
             ],
             [
              0.7777777777777778,
              "#fb9f3a"
             ],
             [
              0.8888888888888888,
              "#fdca26"
             ],
             [
              1,
              "#f0f921"
             ]
            ],
            "type": "heatmap"
           }
          ],
          "heatmapgl": [
           {
            "colorbar": {
             "outlinewidth": 0,
             "ticks": ""
            },
            "colorscale": [
             [
              0,
              "#0d0887"
             ],
             [
              0.1111111111111111,
              "#46039f"
             ],
             [
              0.2222222222222222,
              "#7201a8"
             ],
             [
              0.3333333333333333,
              "#9c179e"
             ],
             [
              0.4444444444444444,
              "#bd3786"
             ],
             [
              0.5555555555555556,
              "#d8576b"
             ],
             [
              0.6666666666666666,
              "#ed7953"
             ],
             [
              0.7777777777777778,
              "#fb9f3a"
             ],
             [
              0.8888888888888888,
              "#fdca26"
             ],
             [
              1,
              "#f0f921"
             ]
            ],
            "type": "heatmapgl"
           }
          ],
          "histogram": [
           {
            "marker": {
             "pattern": {
              "fillmode": "overlay",
              "size": 10,
              "solidity": 0.2
             }
            },
            "type": "histogram"
           }
          ],
          "histogram2d": [
           {
            "colorbar": {
             "outlinewidth": 0,
             "ticks": ""
            },
            "colorscale": [
             [
              0,
              "#0d0887"
             ],
             [
              0.1111111111111111,
              "#46039f"
             ],
             [
              0.2222222222222222,
              "#7201a8"
             ],
             [
              0.3333333333333333,
              "#9c179e"
             ],
             [
              0.4444444444444444,
              "#bd3786"
             ],
             [
              0.5555555555555556,
              "#d8576b"
             ],
             [
              0.6666666666666666,
              "#ed7953"
             ],
             [
              0.7777777777777778,
              "#fb9f3a"
             ],
             [
              0.8888888888888888,
              "#fdca26"
             ],
             [
              1,
              "#f0f921"
             ]
            ],
            "type": "histogram2d"
           }
          ],
          "histogram2dcontour": [
           {
            "colorbar": {
             "outlinewidth": 0,
             "ticks": ""
            },
            "colorscale": [
             [
              0,
              "#0d0887"
             ],
             [
              0.1111111111111111,
              "#46039f"
             ],
             [
              0.2222222222222222,
              "#7201a8"
             ],
             [
              0.3333333333333333,
              "#9c179e"
             ],
             [
              0.4444444444444444,
              "#bd3786"
             ],
             [
              0.5555555555555556,
              "#d8576b"
             ],
             [
              0.6666666666666666,
              "#ed7953"
             ],
             [
              0.7777777777777778,
              "#fb9f3a"
             ],
             [
              0.8888888888888888,
              "#fdca26"
             ],
             [
              1,
              "#f0f921"
             ]
            ],
            "type": "histogram2dcontour"
           }
          ],
          "mesh3d": [
           {
            "colorbar": {
             "outlinewidth": 0,
             "ticks": ""
            },
            "type": "mesh3d"
           }
          ],
          "parcoords": [
           {
            "line": {
             "colorbar": {
              "outlinewidth": 0,
              "ticks": ""
             }
            },
            "type": "parcoords"
           }
          ],
          "pie": [
           {
            "automargin": true,
            "type": "pie"
           }
          ],
          "scatter": [
           {
            "fillpattern": {
             "fillmode": "overlay",
             "size": 10,
             "solidity": 0.2
            },
            "type": "scatter"
           }
          ],
          "scatter3d": [
           {
            "line": {
             "colorbar": {
              "outlinewidth": 0,
              "ticks": ""
             }
            },
            "marker": {
             "colorbar": {
              "outlinewidth": 0,
              "ticks": ""
             }
            },
            "type": "scatter3d"
           }
          ],
          "scattercarpet": [
           {
            "marker": {
             "colorbar": {
              "outlinewidth": 0,
              "ticks": ""
             }
            },
            "type": "scattercarpet"
           }
          ],
          "scattergeo": [
           {
            "marker": {
             "colorbar": {
              "outlinewidth": 0,
              "ticks": ""
             }
            },
            "type": "scattergeo"
           }
          ],
          "scattergl": [
           {
            "marker": {
             "colorbar": {
              "outlinewidth": 0,
              "ticks": ""
             }
            },
            "type": "scattergl"
           }
          ],
          "scattermapbox": [
           {
            "marker": {
             "colorbar": {
              "outlinewidth": 0,
              "ticks": ""
             }
            },
            "type": "scattermapbox"
           }
          ],
          "scatterpolar": [
           {
            "marker": {
             "colorbar": {
              "outlinewidth": 0,
              "ticks": ""
             }
            },
            "type": "scatterpolar"
           }
          ],
          "scatterpolargl": [
           {
            "marker": {
             "colorbar": {
              "outlinewidth": 0,
              "ticks": ""
             }
            },
            "type": "scatterpolargl"
           }
          ],
          "scatterternary": [
           {
            "marker": {
             "colorbar": {
              "outlinewidth": 0,
              "ticks": ""
             }
            },
            "type": "scatterternary"
           }
          ],
          "surface": [
           {
            "colorbar": {
             "outlinewidth": 0,
             "ticks": ""
            },
            "colorscale": [
             [
              0,
              "#0d0887"
             ],
             [
              0.1111111111111111,
              "#46039f"
             ],
             [
              0.2222222222222222,
              "#7201a8"
             ],
             [
              0.3333333333333333,
              "#9c179e"
             ],
             [
              0.4444444444444444,
              "#bd3786"
             ],
             [
              0.5555555555555556,
              "#d8576b"
             ],
             [
              0.6666666666666666,
              "#ed7953"
             ],
             [
              0.7777777777777778,
              "#fb9f3a"
             ],
             [
              0.8888888888888888,
              "#fdca26"
             ],
             [
              1,
              "#f0f921"
             ]
            ],
            "type": "surface"
           }
          ],
          "table": [
           {
            "cells": {
             "fill": {
              "color": "#EBF0F8"
             },
             "line": {
              "color": "white"
             }
            },
            "header": {
             "fill": {
              "color": "#C8D4E3"
             },
             "line": {
              "color": "white"
             }
            },
            "type": "table"
           }
          ]
         },
         "layout": {
          "annotationdefaults": {
           "arrowcolor": "#2a3f5f",
           "arrowhead": 0,
           "arrowwidth": 1
          },
          "autotypenumbers": "strict",
          "coloraxis": {
           "colorbar": {
            "outlinewidth": 0,
            "ticks": ""
           }
          },
          "colorscale": {
           "diverging": [
            [
             0,
             "#8e0152"
            ],
            [
             0.1,
             "#c51b7d"
            ],
            [
             0.2,
             "#de77ae"
            ],
            [
             0.3,
             "#f1b6da"
            ],
            [
             0.4,
             "#fde0ef"
            ],
            [
             0.5,
             "#f7f7f7"
            ],
            [
             0.6,
             "#e6f5d0"
            ],
            [
             0.7,
             "#b8e186"
            ],
            [
             0.8,
             "#7fbc41"
            ],
            [
             0.9,
             "#4d9221"
            ],
            [
             1,
             "#276419"
            ]
           ],
           "sequential": [
            [
             0,
             "#0d0887"
            ],
            [
             0.1111111111111111,
             "#46039f"
            ],
            [
             0.2222222222222222,
             "#7201a8"
            ],
            [
             0.3333333333333333,
             "#9c179e"
            ],
            [
             0.4444444444444444,
             "#bd3786"
            ],
            [
             0.5555555555555556,
             "#d8576b"
            ],
            [
             0.6666666666666666,
             "#ed7953"
            ],
            [
             0.7777777777777778,
             "#fb9f3a"
            ],
            [
             0.8888888888888888,
             "#fdca26"
            ],
            [
             1,
             "#f0f921"
            ]
           ],
           "sequentialminus": [
            [
             0,
             "#0d0887"
            ],
            [
             0.1111111111111111,
             "#46039f"
            ],
            [
             0.2222222222222222,
             "#7201a8"
            ],
            [
             0.3333333333333333,
             "#9c179e"
            ],
            [
             0.4444444444444444,
             "#bd3786"
            ],
            [
             0.5555555555555556,
             "#d8576b"
            ],
            [
             0.6666666666666666,
             "#ed7953"
            ],
            [
             0.7777777777777778,
             "#fb9f3a"
            ],
            [
             0.8888888888888888,
             "#fdca26"
            ],
            [
             1,
             "#f0f921"
            ]
           ]
          },
          "colorway": [
           "#636efa",
           "#EF553B",
           "#00cc96",
           "#ab63fa",
           "#FFA15A",
           "#19d3f3",
           "#FF6692",
           "#B6E880",
           "#FF97FF",
           "#FECB52"
          ],
          "font": {
           "color": "#2a3f5f"
          },
          "geo": {
           "bgcolor": "white",
           "lakecolor": "white",
           "landcolor": "#E5ECF6",
           "showlakes": true,
           "showland": true,
           "subunitcolor": "white"
          },
          "hoverlabel": {
           "align": "left"
          },
          "hovermode": "closest",
          "mapbox": {
           "style": "light"
          },
          "paper_bgcolor": "white",
          "plot_bgcolor": "#E5ECF6",
          "polar": {
           "angularaxis": {
            "gridcolor": "white",
            "linecolor": "white",
            "ticks": ""
           },
           "bgcolor": "#E5ECF6",
           "radialaxis": {
            "gridcolor": "white",
            "linecolor": "white",
            "ticks": ""
           }
          },
          "scene": {
           "xaxis": {
            "backgroundcolor": "#E5ECF6",
            "gridcolor": "white",
            "gridwidth": 2,
            "linecolor": "white",
            "showbackground": true,
            "ticks": "",
            "zerolinecolor": "white"
           },
           "yaxis": {
            "backgroundcolor": "#E5ECF6",
            "gridcolor": "white",
            "gridwidth": 2,
            "linecolor": "white",
            "showbackground": true,
            "ticks": "",
            "zerolinecolor": "white"
           },
           "zaxis": {
            "backgroundcolor": "#E5ECF6",
            "gridcolor": "white",
            "gridwidth": 2,
            "linecolor": "white",
            "showbackground": true,
            "ticks": "",
            "zerolinecolor": "white"
           }
          },
          "shapedefaults": {
           "line": {
            "color": "#2a3f5f"
           }
          },
          "ternary": {
           "aaxis": {
            "gridcolor": "white",
            "linecolor": "white",
            "ticks": ""
           },
           "baxis": {
            "gridcolor": "white",
            "linecolor": "white",
            "ticks": ""
           },
           "bgcolor": "#E5ECF6",
           "caxis": {
            "gridcolor": "white",
            "linecolor": "white",
            "ticks": ""
           }
          },
          "title": {
           "x": 0.05
          },
          "xaxis": {
           "automargin": true,
           "gridcolor": "white",
           "linecolor": "white",
           "ticks": "",
           "title": {
            "standoff": 15
           },
           "zerolinecolor": "white",
           "zerolinewidth": 2
          },
          "yaxis": {
           "automargin": true,
           "gridcolor": "white",
           "linecolor": "white",
           "ticks": "",
           "title": {
            "standoff": 15
           },
           "zerolinecolor": "white",
           "zerolinewidth": 2
          }
         }
        },
        "title": {
         "text": "Teste 1.1: Método do Cotovelo para o KMeans com até 14 clusters. Dataset: 2014 a 2018-1. Codificação: binária.<br>Linhas com nulo removidas. Colunas Data de Cadastro, Violações e Município removidas. Todo país. 900 épocas."
        },
        "xaxis": {
         "anchor": "y",
         "domain": [
          0,
          1
         ],
         "title": {
          "text": "Número de Clusters"
         }
        },
        "yaxis": {
         "anchor": "x",
         "domain": [
          0,
          1
         ],
         "title": {
          "text": "Inércia"
         }
        }
       }
      }
     },
     "metadata": {},
     "output_type": "display_data"
    }
   ],
   "source": [
    "inertiasKMeansTest1_1 = pd.DataFrame({\n",
    "    \"Random\" : inertiaRandomTest1_1,\n",
    "    \"K-Means++\" : inertiaKMeansTest1_1,\n",
    "    \"Número de Clusters\" : numbersOfClustersKMeansTest1_1\n",
    "})\n",
    "\n",
    "# Visualização dos custos\n",
    "figKMeansTest1_1 = px.line(\n",
    "    inertiasKMeansTest1_1, \n",
    "    x = \"Número de Clusters\", \n",
    "    y = [\"Random\", \"K-Means++\"], \n",
    "    title = (\n",
    "        f\"Teste 1.1: Método do Cotovelo para o KMeans com até {len(numbersOfClustersKMeansTest1_1)} clusters. Dataset: {nomeDoArquivo}. Codificação: binária.<br>\"\n",
    "        f\"Linhas com nulo removidas. Colunas Data de Cadastro, Violações e Município removidas. {info}.\"\n",
    "    )\n",
    ")\n",
    "\n",
    "figKMeansTest1_1.update_layout(\n",
    "    xaxis_title=\"Número de Clusters\",\n",
    "    yaxis_title=\"Inércia\",\n",
    "    legend_title=\"Método de Inicialização\"\n",
    ")\n",
    "\n",
    "figKMeansTest1_1.show()"
   ]
  },
  {
   "cell_type": "code",
   "execution_count": 19,
   "metadata": {},
   "outputs": [],
   "source": [
    "# Exportando o gráfico como uma imagem PNG\n",
    "figKMeansTest1_1.write_image(f\"KMeansTeste1.1{info}.png\", width=1280, height=720)\n"
   ]
  },
  {
   "cell_type": "code",
   "execution_count": 20,
   "metadata": {},
   "outputs": [],
   "source": [
    "modelKMeansTest1_1 = KMeans(n_clusters=4, init='random', random_state=42, n_init = 1, max_iter = numeroDeEpocas, algorithm = 'lloyd', verbose=0)\n",
    "modelKMeansTest1_1.fit(dataSelectedEncodedBinaryKMeansTest1_1)\n",
    "\n",
    "labelsKMeansTest1_1 = modelKMeansTest1_1.labels_\n",
    "\n",
    "dataSelectedEncodedBinaryKMeansTest1_1['Cluster'] = labelsKMeansTest1_1"
   ]
  },
  {
   "cell_type": "markdown",
   "metadata": {},
   "source": [
    "### Teste 1.2\n",
    "\n",
    "**Codificação**: One-Hot"
   ]
  },
  {
   "cell_type": "code",
   "execution_count": 24,
   "metadata": {},
   "outputs": [],
   "source": [
    "# Aplica a codificação One-Hot\n",
    "dataSelectedEncodedOneHotKMeansTest1_2 = pd.get_dummies(dataSelectedKMeansTest1)\n",
    "\n",
    "# Definição de com quantos clusters será testado.\n",
    "numbersOfClustersKMeansTest1_2 = range(1, 15)\n",
    "\n",
    "# Vetores para armazenar os \"custos\" (medida quantitativa de quão bem os clusters foram formados em termos de homogeneidade interna) para o K-Means\n",
    "inertiaRandomTest1_2 = []\n",
    "inertiaKMeansTest1_2 = []"
   ]
  },
  {
   "cell_type": "code",
   "execution_count": 25,
   "metadata": {},
   "outputs": [],
   "source": [
    "# Calculando a inertia para a inicialização 'random'\n",
    "for clustersNumber in numbersOfClustersKMeansTest1_2:\n",
    "    kmeans_random = KMeans(n_clusters=clustersNumber, init='random', random_state=42, n_init = 1, max_iter = numeroDeEpocas, algorithm = 'lloyd', verbose=0)\n",
    "    kmeans_random.fit(dataSelectedEncodedOneHotKMeansTest1_2)\n",
    "    inertiaRandomTest1_2.append(kmeans_random.inertia_)"
   ]
  },
  {
   "cell_type": "code",
   "execution_count": 26,
   "metadata": {},
   "outputs": [],
   "source": [
    "# Calculando a inertia para a inicialização 'k-means++'\n",
    "for clustersNumber in numbersOfClustersKMeansTest1_2:\n",
    "    kmeans_kmeans = KMeans(n_clusters=clustersNumber, init='k-means++', random_state=42, n_init = 1, max_iter = numeroDeEpocas, algorithm = 'lloyd', verbose=0)\n",
    "    kmeans_kmeans.fit(dataSelectedEncodedOneHotKMeansTest1_2)\n",
    "    inertiaKMeansTest1_2.append(kmeans_kmeans.inertia_)"
   ]
  },
  {
   "cell_type": "code",
   "execution_count": null,
   "metadata": {},
   "outputs": [],
   "source": [
    "inertiasKMeansTest1_2 = pd.DataFrame({\n",
    "    \"Random\" : inertiaRandomTest1_2,\n",
    "    \"K-Means++\" : inertiaKMeansTest1_2,\n",
    "    \"Número de Clusters\" : numbersOfClustersKMeansTest1_2\n",
    "})\n",
    "\n",
    "# Visualização dos custos\n",
    "figKMeansTest1_2 = px.line(\n",
    "    inertiasKMeansTest1_2, \n",
    "    x = \"Número de Clusters\", \n",
    "    y = [\"Random\", \"K-Means++\"], \n",
    "    title = (\n",
    "        f\"Teste 1.2: Método do Cotovelo para o KMeans com até {len(numbersOfClustersKMeansTest1_2)} clusters. Dataset: {nomeDoArquivo}. Codificação: One-Hot.<br>\"\n",
    "        f\"Linhas com nulo removidas. Colunas Data de Cadastro, Violações e Município removidas. {info}.\"\n",
    "    )\n",
    ")\n",
    "\n",
    "figKMeansTest1_2.update_layout(\n",
    "    xaxis_title=\"Número de Clusters\",\n",
    "    yaxis_title=\"Inércia\",\n",
    "    legend_title=\"Método de Inicialização\"\n",
    ")\n",
    "\n",
    "figKMeansTest1_2.show()"
   ]
  },
  {
   "cell_type": "code",
   "execution_count": 28,
   "metadata": {},
   "outputs": [],
   "source": [
    "# Exportando o gráfico como uma imagem PNG\n",
    "figKMeansTest1_2.write_image(f\"KMeansTeste1.2{info}.png\", width=1280, height=720)"
   ]
  },
  {
   "cell_type": "code",
   "execution_count": 29,
   "metadata": {},
   "outputs": [],
   "source": [
    "modelKMeansTest1_2 = KMeans(n_clusters=4, init='random', random_state=42, n_init = 1, max_iter = numeroDeEpocas, algorithm = 'lloyd', verbose=0)\n",
    "modelKMeansTest1_2.fit(dataSelectedEncodedOneHotKMeansTest1_2)\n",
    "\n",
    "labelsKMeansTest1_2 = modelKMeansTest1_2.labels_"
   ]
  },
  {
   "cell_type": "markdown",
   "metadata": {},
   "source": [
    "## Teste 2\n",
    "\n",
    "Teste de clusterização sobre colunas especificas de perfil de vítima e suspeito, para as duas codificações. Colunas usadas:\n",
    "\n",
    " 'Sexo da vítima',\n",
    " 'Sexo do suspeito', \n",
    " 'Raça\\Cor da vítima', \n",
    " 'Raça\\Cor do suspeito',\n",
    " 'Faixa etária da vítima', \n",
    " 'Faixa etária do suspeito',\n",
    " 'Grau de instrução da vítima', \n",
    " 'Grau de instrução do suspeito'"
   ]
  },
  {
   "cell_type": "code",
   "execution_count": null,
   "metadata": {},
   "outputs": [],
   "source": [
    "# Seleciona as colunas que serão utilizadas\n",
    "dataSelectedKMeansTest2 = data[['Sexo da vítima',\n",
    "                                'Sexo do suspeito',\n",
    "                                'Raça\\\\Cor da vítima',\n",
    "                                'Raça\\\\Cor do suspeito',\n",
    "                                'Faixa etária da vítima',\n",
    "                                'Faixa etária do suspeito',\n",
    "                                'Grau de instrução da vítima',\n",
    "                                'Grau de instrução do suspeito']].copy()\n",
    "\n",
    "# Visualização dos valores nulos com um heatmap\n",
    "plt.figure(figsize=(20, 10)) \n",
    "sns.heatmap(dataSelectedKMeansTest2.isnull(), cbar=False, cmap='viridis')\n",
    "plt.show()\n",
    "\n",
    "numeroDeLinhasComNulo = dataSelectedKMeansTest2.isnull().any(axis=1).sum()\n",
    "numeroDeLinhasSemNulo = dataSelectedKMeansTest2.notnull().all(axis=1).sum()\n",
    "totalDeLinhas = len(dataSelectedKMeansTest2)\n",
    "print(f\"Linhas sem valores nulos: {numeroDeLinhasSemNulo}/{totalDeLinhas} ({numeroDeLinhasSemNulo/totalDeLinhas:.2%})\")\n",
    "\n",
    "# Remove as linhas com valores nulos\n",
    "dataSelectedKMeansTest2 = RemoveLinhasComNulos(dataSelectedKMeansTest2)"
   ]
  },
  {
   "cell_type": "markdown",
   "metadata": {},
   "source": [
    "### Teste 2.1\n",
    "\n",
    "**Codificação**: Binária"
   ]
  },
  {
   "cell_type": "code",
   "execution_count": 31,
   "metadata": {},
   "outputs": [],
   "source": [
    "# Aplica a codificação Binária\n",
    "codificador = ce.BinaryEncoder(cols=dataSelectedKMeansTest2.columns)\n",
    "dataSelectedEncodedBinaryKMeansTest2_1 = codificador.fit_transform(dataSelectedKMeansTest2) \n",
    "\n",
    "# Definição de com quantos clusters será testado.\n",
    "numbersOfClustersKMeansTest2_1 = range(1, 15)\n",
    "\n",
    "# Vetores para armazenar os \"custos\" (medida quantitativa de quão bem os clusters foram formados em termos de homogeneidade interna) para o K-Means\n",
    "inertiaRandomTest2_1 = []\n",
    "inertiaKMeansTest2_1 = []"
   ]
  },
  {
   "cell_type": "code",
   "execution_count": 32,
   "metadata": {},
   "outputs": [],
   "source": [
    "# Calculando a inertia para a inicialização 'random'\n",
    "for clustersNumber in numbersOfClustersKMeansTest2_1:\n",
    "    kmeans_random = KMeans(n_clusters=clustersNumber, init='random', random_state=42, n_init = 1, max_iter = numeroDeEpocas, algorithm = 'lloyd', verbose=0)\n",
    "    kmeans_random.fit(dataSelectedEncodedBinaryKMeansTest2_1)\n",
    "    inertiaRandomTest2_1.append(kmeans_random.inertia_)"
   ]
  },
  {
   "cell_type": "code",
   "execution_count": 33,
   "metadata": {},
   "outputs": [],
   "source": [
    "# Calculando a inertia para a inicialização 'k-means++'\n",
    "for clustersNumber in numbersOfClustersKMeansTest2_1:\n",
    "    kmeans_kmeans = KMeans(n_clusters=clustersNumber, init='k-means++', random_state=42, n_init = 1, max_iter = numeroDeEpocas, algorithm = 'lloyd', verbose=0)\n",
    "    kmeans_kmeans.fit(dataSelectedEncodedBinaryKMeansTest2_1)\n",
    "    inertiaKMeansTest2_1.append(kmeans_kmeans.inertia_)"
   ]
  },
  {
   "cell_type": "code",
   "execution_count": null,
   "metadata": {},
   "outputs": [],
   "source": [
    "inertiasKMeansTest2_1 = pd.DataFrame({\n",
    "    \"Random\" : inertiaRandomTest2_1,\n",
    "    \"K-Means++\" : inertiaKMeansTest2_1,\n",
    "    \"Número de Clusters\" : numbersOfClustersKMeansTest2_1\n",
    "})\n",
    "\n",
    "# Visualização dos custos\n",
    "figKMeansTest2_1 = px.line(\n",
    "    inertiasKMeansTest2_1, \n",
    "    x = \"Número de Clusters\", \n",
    "    y = [\"Random\", \"K-Means++\"], \n",
    "    title = (\n",
    "        f\"Teste 2.1: Método do Cotovelo para o KMeans com até {len(numbersOfClustersKMeansTest2_1)} clusters. Dataset: {nomeDoArquivo}. Codificação: binária.<br>\"\n",
    "        f\"Linhas com nulo removidas. Colunas: Sexo, Raça\\\\Cor, Faixa Etária e Grau de Instrução (vítima e suspeito). {info}.\"\n",
    "    )\n",
    ")\n",
    "\n",
    "figKMeansTest2_1.update_layout(\n",
    "    xaxis_title=\"Número de Clusters\",\n",
    "    yaxis_title=\"Inércia\",\n",
    "    legend_title=\"Método de Inicialização\"\n",
    ")\n",
    "\n",
    "figKMeansTest2_1.show()"
   ]
  },
  {
   "cell_type": "code",
   "execution_count": 35,
   "metadata": {},
   "outputs": [],
   "source": [
    "# Exportando o gráfico como uma imagem PNG\n",
    "figKMeansTest2_1.write_image(f\"KMeansTeste2.1{info}.png\", width=1280, height=720)"
   ]
  },
  {
   "cell_type": "code",
   "execution_count": 36,
   "metadata": {},
   "outputs": [],
   "source": [
    "modelKMeansTest2_1 = KMeans(n_clusters=4, init='random', random_state=42, n_init = 1, max_iter = numeroDeEpocas, algorithm = 'lloyd', verbose=0)\n",
    "modelKMeansTest2_1.fit(dataSelectedEncodedBinaryKMeansTest2_1)\n",
    "\n",
    "labelsKMeansTest2_1 = modelKMeansTest2_1.labels_"
   ]
  },
  {
   "cell_type": "markdown",
   "metadata": {},
   "source": [
    "### Teste 2.2\n",
    "\n",
    "**Codificação**: One-Hot"
   ]
  },
  {
   "cell_type": "code",
   "execution_count": 37,
   "metadata": {},
   "outputs": [],
   "source": [
    "# Aplica a codificação One-Hot\n",
    "dataSelectedEncodedOneHotKMeansTest2_2 = pd.get_dummies(dataSelectedKMeansTest2)\n",
    "\n",
    "# Definição de com quantos clusters será testado.\n",
    "numbersOfClustersKMeansTest2_2 = range(1, 15)\n",
    "\n",
    "# Vetores para armazenar os \"custos\" (medida quantitativa de quão bem os clusters foram formados em termos de homogeneidade interna) para o K-Means\n",
    "inertiaRandomTest2_2 = []\n",
    "inertiaKMeansTest2_2 = []"
   ]
  },
  {
   "cell_type": "code",
   "execution_count": 38,
   "metadata": {},
   "outputs": [],
   "source": [
    "# Calculando a inertia para a inicialização 'random'\n",
    "for clustersNumber in numbersOfClustersKMeansTest2_2:\n",
    "    kmeans_random = KMeans(n_clusters=clustersNumber, init='random', random_state=42, n_init = 1, max_iter = numeroDeEpocas, algorithm = 'lloyd', verbose=0)\n",
    "    kmeans_random.fit(dataSelectedEncodedOneHotKMeansTest2_2)\n",
    "    inertiaRandomTest2_2.append(kmeans_random.inertia_)"
   ]
  },
  {
   "cell_type": "code",
   "execution_count": 39,
   "metadata": {},
   "outputs": [],
   "source": [
    "# Calculando a inertia para a inicialização 'k-means++'\n",
    "for clustersNumber in numbersOfClustersKMeansTest2_2:\n",
    "    kmeans_kmeans = KMeans(n_clusters=clustersNumber, init='k-means++', random_state=42, n_init = 1, max_iter = numeroDeEpocas, algorithm = 'lloyd', verbose=0)\n",
    "    kmeans_kmeans.fit(dataSelectedEncodedOneHotKMeansTest2_2)\n",
    "    inertiaKMeansTest2_2.append(kmeans_kmeans.inertia_)"
   ]
  },
  {
   "cell_type": "code",
   "execution_count": null,
   "metadata": {},
   "outputs": [],
   "source": [
    "inertiasKMeansTest2_2 = pd.DataFrame({\n",
    "    \"Random\" : inertiaRandomTest2_2,\n",
    "    \"K-Means++\" : inertiaKMeansTest2_2,\n",
    "    \"Número de Clusters\" : numbersOfClustersKMeansTest2_2\n",
    "})\n",
    "\n",
    "# Visualização dos custos\n",
    "figKMeansTest2_2 = px.line(\n",
    "    inertiasKMeansTest2_2, \n",
    "    x = \"Número de Clusters\", \n",
    "    y = [\"Random\", \"K-Means++\"], \n",
    "    title = (\n",
    "        f\"Teste 2.2: Método do Cotovelo para o KMeans com até {len(numbersOfClustersKMeansTest2_2)} clusters. Dataset: {nomeDoArquivo}. Codificação: One-Hot.<br>\"\n",
    "        f\"Linhas com nulo removidas. Colunas: Sexo, Raça\\\\Cor, Faixa Etária e Grau de Instrução (vítima e suspeito). {info}.\"\n",
    "    )\n",
    ")\n",
    "\n",
    "figKMeansTest2_2.update_layout(\n",
    "    xaxis_title=\"Número de Clusters\",\n",
    "    yaxis_title=\"Inércia\",\n",
    "    legend_title=\"Método de Inicialização\"\n",
    ")\n",
    "\n",
    "figKMeansTest2_2.show()"
   ]
  },
  {
   "cell_type": "code",
   "execution_count": 41,
   "metadata": {},
   "outputs": [],
   "source": [
    "# Exportando o gráfico como uma imagem PNG\n",
    "figKMeansTest2_2.write_image(f\"KMeansTeste2.2{info}.png\", width=1280, height=720)"
   ]
  },
  {
   "cell_type": "code",
   "execution_count": 42,
   "metadata": {},
   "outputs": [],
   "source": [
    "modelKMeansTest2_2 = KMeans(n_clusters=4, init='random', random_state=42, n_init = 1, max_iter = numeroDeEpocas, algorithm = 'lloyd', verbose=0)\n",
    "modelKMeansTest2_2.fit(dataSelectedEncodedOneHotKMeansTest2_2)\n",
    "\n",
    "labelsKMeansTest2_2 = modelKMeansTest2_2.labels_"
   ]
  },
  {
   "cell_type": "markdown",
   "metadata": {},
   "source": [
    "## Teste 3\n",
    "\n",
    "Teste de clusterização sobre colunas especificas de perfil apenas da vítima para as duas codificações. Colunas usadas:\n",
    "\n",
    " 'Sexo da vítima', \n",
    " 'Raça\\Cor da vítima',\n",
    " 'Faixa etária da vítima', \n",
    " 'Grau de instrução da vítima', \n"
   ]
  },
  {
   "cell_type": "code",
   "execution_count": null,
   "metadata": {},
   "outputs": [],
   "source": [
    "# Seleciona as colunas que serão utilizadas\n",
    "dataSelectedKMeansTest3 = data[['Sexo da vítima',\n",
    "                                'Raça\\\\Cor da vítima',\n",
    "                                'Faixa etária da vítima',\n",
    "                                'Grau de instrução da vítima']].copy()\n",
    "\n",
    "# Visualização dos valores nulos com um heatmap\n",
    "plt.figure(figsize=(20, 10)) \n",
    "sns.heatmap(dataSelectedKMeansTest3.isnull(), cbar=False, cmap='viridis')\n",
    "plt.show()\n",
    "\n",
    "numeroDeLinhasComNulo = dataSelectedKMeansTest3.isnull().any(axis=1).sum()\n",
    "numeroDeLinhasSemNulo = dataSelectedKMeansTest3.notnull().all(axis=1).sum()\n",
    "totalDeLinhas = len(dataSelectedKMeansTest3)\n",
    "print(f\"Linhas sem valores nulos: {numeroDeLinhasSemNulo}/{totalDeLinhas} ({numeroDeLinhasSemNulo/totalDeLinhas:.2%})\")\n",
    "\n",
    "# Remove as linhas com valores nulos\n",
    "dataSelectedKMeansTest3 = RemoveLinhasComNulos(dataSelectedKMeansTest3)"
   ]
  },
  {
   "cell_type": "markdown",
   "metadata": {},
   "source": [
    "### Teste 3.1\n",
    "\n",
    "**Codificação:** Binária"
   ]
  },
  {
   "cell_type": "code",
   "execution_count": 44,
   "metadata": {},
   "outputs": [],
   "source": [
    "# Aplica a codificação Binária\n",
    "codificador = ce.BinaryEncoder(cols=dataSelectedKMeansTest3.columns)\n",
    "dataSelectedEncodedBinaryKMeansTest3_1 = codificador.fit_transform(dataSelectedKMeansTest3) \n",
    "\n",
    "# Definição de com quantos clusters será testado.\n",
    "numbersOfClustersKMeansTest3_1 = range(1, 15)\n",
    "\n",
    "# Vetores para armazenar os \"custos\" (medida quantitativa de quão bem os clusters foram formados em termos de homogeneidade interna) para o K-Means\n",
    "inertiaRandomTest3_1 = []\n",
    "inertiaKMeansTest3_1 = []"
   ]
  },
  {
   "cell_type": "code",
   "execution_count": 45,
   "metadata": {},
   "outputs": [],
   "source": [
    "# Calculando a inertia para a inicialização 'random'\n",
    "for clustersNumber in numbersOfClustersKMeansTest3_1:\n",
    "    kmeans_random = KMeans(n_clusters=clustersNumber, init='random', random_state=42, n_init = 1, max_iter = numeroDeEpocas, algorithm = 'lloyd', verbose=0)\n",
    "    kmeans_random.fit(dataSelectedEncodedBinaryKMeansTest3_1)\n",
    "    inertiaRandomTest3_1.append(kmeans_random.inertia_)"
   ]
  },
  {
   "cell_type": "code",
   "execution_count": 46,
   "metadata": {},
   "outputs": [],
   "source": [
    "# Calculando a inertia para a inicialização 'k-means++'\n",
    "for clustersNumber in numbersOfClustersKMeansTest3_1:\n",
    "    kmeans_kmeans = KMeans(n_clusters=clustersNumber, init='k-means++', random_state=42, n_init = 1, max_iter = numeroDeEpocas, algorithm = 'lloyd', verbose=0)\n",
    "    kmeans_kmeans.fit(dataSelectedEncodedBinaryKMeansTest3_1)\n",
    "    inertiaKMeansTest3_1.append(kmeans_kmeans.inertia_)"
   ]
  },
  {
   "cell_type": "code",
   "execution_count": null,
   "metadata": {},
   "outputs": [],
   "source": [
    "inertiasKMeansTest3_1 = pd.DataFrame({\n",
    "    \"Random\" : inertiaRandomTest3_1,\n",
    "    \"K-Means++\" : inertiaKMeansTest3_1,\n",
    "    \"Número de Clusters\" : numbersOfClustersKMeansTest3_1\n",
    "})\n",
    "\n",
    "# Visualização dos custos\n",
    "figKMeansTest3_1 = px.line(\n",
    "    inertiasKMeansTest3_1, \n",
    "    x = \"Número de Clusters\", \n",
    "    y = [\"Random\", \"K-Means++\"], \n",
    "    title = (\n",
    "        f\"Teste 3.1: Método do Cotovelo para o KMeans com até {len(numbersOfClustersKMeansTest3_1)} clusters. Dataset: {nomeDoArquivo}. Codificação: binária.  <br>\"\n",
    "        f\"Linhas com nulo removidas. Colunas: Sexo, Raça\\\\Cor, Faixa Etária e Grau de Instrução (apenas vítima). {info}.\"\n",
    "    )\n",
    ")\n",
    "\n",
    "figKMeansTest3_1.update_layout(\n",
    "    xaxis_title=\"Número de Clusters\",\n",
    "    yaxis_title=\"Inércia\",\n",
    "    legend_title=\"Método de Inicialização\",\n",
    ")\n",
    "\n",
    "figKMeansTest3_1.show()"
   ]
  },
  {
   "cell_type": "code",
   "execution_count": 48,
   "metadata": {},
   "outputs": [],
   "source": [
    "# Exportando o gráfico como uma imagem PNG\n",
    "figKMeansTest3_1.write_image(f\"KMeansTeste3.1{info}.png\", width=1280, height=720)"
   ]
  },
  {
   "cell_type": "code",
   "execution_count": 49,
   "metadata": {},
   "outputs": [],
   "source": [
    "modelKMeansTest3_1 = KMeans(n_clusters=4, init='random', random_state=42, n_init = 1, max_iter = numeroDeEpocas, algorithm = 'lloyd', verbose=0)\n",
    "modelKMeansTest3_1.fit(dataSelectedEncodedBinaryKMeansTest3_1)\n",
    "\n",
    "labelsKMeansTest3_1 = modelKMeansTest3_1.labels_"
   ]
  },
  {
   "cell_type": "code",
   "execution_count": 50,
   "metadata": {},
   "outputs": [],
   "source": [
    "## Aplica a clusterização com 4 clusters\n",
    "#kmeans = KMeans(n_clusters=4, init='k-means++', random_state=42, n_init=10, max_iter=300)\n",
    "#kmeans.fit(dataSelectedEncodedBinaryKMeansTest3_1)\n",
    "#\n",
    "## Adiciona os labels dos clusters ao dataset original\n",
    "#dataSelectedKMeansTest3['Cluster'] = kmeans.labels_"
   ]
  },
  {
   "cell_type": "code",
   "execution_count": 51,
   "metadata": {},
   "outputs": [],
   "source": [
    "# Criação de um gráfico 3D para visualização dos clusters\n",
    "#fig = px.scatter_3d(dataSelectedTest3_1,\n",
    "#                    x='Faixa etária da vítima',\n",
    "#                    y='Raça\\\\Cor da vítima',\n",
    "#                    z='Grau de instrução da vítima',\n",
    "#                    color='Cluster',\n",
    "#                    title='Visualização 3D dos Clusters (Faixa Etária, Grau de Instrução e Raça\\\\Cor da Vítima)',\n",
    "#                    labels={'Cluster': 'Cluster'})\n",
    "#\n",
    "#fig.show()"
   ]
  },
  {
   "cell_type": "code",
   "execution_count": 52,
   "metadata": {},
   "outputs": [],
   "source": [
    "# Inicializando o app Dash\n",
    "#app = dash.Dash(__name__)\n",
    "#\n",
    "## Função para criar gráficos\n",
    "#def create_bar_chart(data):\n",
    "#    faixaEtariaCluster = data.groupby(['Faixa etária da vítima', 'Cluster']).size().reset_index(name='Count')\n",
    "#    return px.bar(faixaEtariaCluster, \n",
    "#                  x='Faixa etária da vítima', \n",
    "#                  y='Count', \n",
    "#                  color='Cluster', \n",
    "#                  barmode='group', \n",
    "#                  title='Distribuição da Faixa Etária da Vítima por Cluster')\n",
    "#\n",
    "#def create_scatter_plot(data):\n",
    "#    return px.scatter(data, \n",
    "#                      x='Faixa etária da vítima', \n",
    "#                      y='Grau de instrução da vítima', \n",
    "#                      color='Cluster', \n",
    "#                      title='Relação entre Faixa Etária e Grau de Instrução por Cluster',\n",
    "#                      labels={'Faixa etária da vítima': 'Faixa Etária', 'Grau de instrução da vítima': 'Grau de Instrução'})\n",
    "#\n",
    "#def create_heatmap(data):\n",
    "#    heatmap_data = pd.crosstab([data['Faixa etária da vítima'], data['Raça\\\\Cor da vítima']], data['Cluster'], normalize='index')\n",
    "#    return px.imshow(heatmap_data, \n",
    "#                     title='Distribuição de Faixa Etária e Raça/Cor da Vítima por Cluster',\n",
    "#                     labels={'x': 'Cluster', 'y': 'Faixa etária e Raça/Cor da Vítima'},\n",
    "#                     color_continuous_scale='Viridis')\n",
    "#\n",
    "## Layout do dashboard\n",
    "#app.layout = html.Div([\n",
    "#    html.H1(\"Dashboard de Análise de Clusters\"),\n",
    "#\n",
    "#    # Primeiro gráfico - Gráfico de Barras\n",
    "#    dcc.Graph(id='bar-chart', figure=create_bar_chart(dataSelectedEncodedBinaryKMeansTest3_1)),\n",
    "#\n",
    "#    # Segundo gráfico - Gráfico de Dispersão\n",
    "#    dcc.Graph(id='scatter-plot', figure=create_scatter_plot(dataSelectedEncodedBinaryKMeansTest3_1)),\n",
    "#\n",
    "#    # Terceiro gráfico - Heatmap\n",
    "#    dcc.Graph(id='heatmap', figure=create_heatmap(dataSelectedEncodedBinaryKMeansTest3_1)),\n",
    "#])\n",
    "#\n",
    "## Executando o app\n",
    "#if __name__ == '__main__':\n",
    "#    app.run_server(debug=True)"
   ]
  },
  {
   "cell_type": "markdown",
   "metadata": {},
   "source": [
    "### Teste 3.2\n",
    "\n",
    "**Codificação:** One-Hot"
   ]
  },
  {
   "cell_type": "code",
   "execution_count": 53,
   "metadata": {},
   "outputs": [],
   "source": [
    "# Aplica a codificação One-Hot\n",
    "dataSelectedEncodedOneHotKMeansTest3_2 = pd.get_dummies(dataSelectedKMeansTest3)\n",
    "\n",
    "# Definição de com quantos clusters será testado.\n",
    "numbersOfClustersKMeansTest3_2 = range(1, 15)\n",
    "\n",
    "# Vetores para armazenar os \"custos\" (medida quantitativa de quão bem os clusters foram formados em termos de homogeneidade interna) para o K-Means\n",
    "inertiaRandomTest3_2 = []\n",
    "inertiaKMeansTest3_2 = []"
   ]
  },
  {
   "cell_type": "code",
   "execution_count": 54,
   "metadata": {},
   "outputs": [],
   "source": [
    "# Calculando a inertia para a inicialização 'random'\n",
    "for clustersNumber in numbersOfClustersKMeansTest3_2:\n",
    "    kmeans_random = KMeans(n_clusters=clustersNumber, init='random', random_state=42, n_init = 1, max_iter = numeroDeEpocas, algorithm = 'lloyd', verbose=0)\n",
    "    kmeans_random.fit(dataSelectedEncodedOneHotKMeansTest3_2)\n",
    "    inertiaRandomTest3_2.append(kmeans_random.inertia_)"
   ]
  },
  {
   "cell_type": "code",
   "execution_count": 55,
   "metadata": {},
   "outputs": [],
   "source": [
    "# Calculando a inertia para a inicialização 'k-means++'\n",
    "for clustersNumber in numbersOfClustersKMeansTest3_2:\n",
    "    kmeans_kmeans = KMeans(n_clusters=clustersNumber, init='k-means++', random_state=42, n_init = 1, max_iter = numeroDeEpocas, algorithm = 'lloyd', verbose=0)\n",
    "    kmeans_kmeans.fit(dataSelectedEncodedOneHotKMeansTest3_2)\n",
    "    inertiaKMeansTest3_2.append(kmeans_kmeans.inertia_)"
   ]
  },
  {
   "cell_type": "code",
   "execution_count": null,
   "metadata": {},
   "outputs": [],
   "source": [
    "inertiasKMeansTest3_2 = pd.DataFrame({\n",
    "    \"Random\" : inertiaRandomTest3_2,\n",
    "    \"K-Means++\" : inertiaKMeansTest3_2,\n",
    "    \"Número de Clusters\" : numbersOfClustersKMeansTest3_2\n",
    "})\n",
    "\n",
    "# Visualização dos custos\n",
    "figKMeansTest3_2 = px.line(\n",
    "    inertiasKMeansTest3_2, \n",
    "    x = \"Número de Clusters\", \n",
    "    y = [\"Random\", \"K-Means++\"], \n",
    "    title = (\n",
    "        f\"Teste 3.2: Método do Cotovelo para o KMeans com até {len(numbersOfClustersKMeansTest3_2)} clusters. Dataset: {nomeDoArquivo}. Codificação: One-Hot.  <br>\"\n",
    "        f\"Linhas com nulo removidas. Colunas: Sexo, Raça\\\\Cor, Faixa Etária e Grau de Instrução (apenas vítima). {info}.\"\n",
    "    )\n",
    ")\n",
    "\n",
    "figKMeansTest3_2.update_layout(\n",
    "    xaxis_title=\"Número de Clusters\",\n",
    "    yaxis_title=\"Inércia\",\n",
    "    legend_title=\"Método de Inicialização\",\n",
    ")\n",
    "\n",
    "figKMeansTest3_2.show()"
   ]
  },
  {
   "cell_type": "code",
   "execution_count": 57,
   "metadata": {},
   "outputs": [],
   "source": [
    "# Exportando o gráfico como uma imagem PNG\n",
    "figKMeansTest3_2.write_image(f\"KMeansTeste3.2{info}.png\", width=1280, height=720)"
   ]
  },
  {
   "cell_type": "code",
   "execution_count": 58,
   "metadata": {},
   "outputs": [],
   "source": [
    "modelKMeansTest3_2 = KMeans(n_clusters=4, init='random', random_state=42, n_init = 1, max_iter = numeroDeEpocas, algorithm = 'lloyd', verbose=0)\n",
    "modelKMeansTest3_2.fit(dataSelectedEncodedOneHotKMeansTest3_2)\n",
    "\n",
    "labelsKMeansTest3_2 = modelKMeansTest3_2.labels_"
   ]
  },
  {
   "cell_type": "markdown",
   "metadata": {},
   "source": [
    "## Teste 4\n",
    "\n",
    "Teste de clusterização sobre colunas especificas de perfil do suspeito, para as duas codificações. Colunas usadas:\n",
    "\n",
    " 'Sexo do suspeito',\n",
    " 'Raça\\Cor do suspeito', \n",
    " 'Faixa etária do suspeito', \n",
    " 'Grau de instrução do suspeito'"
   ]
  },
  {
   "cell_type": "code",
   "execution_count": null,
   "metadata": {},
   "outputs": [],
   "source": [
    "# Seleciona as colunas que serão utilizadas\n",
    "dataSelectedKMeansTest4 = data[['Sexo do suspeito',\n",
    "                                'Raça\\\\Cor do suspeito',\n",
    "                                'Faixa etária do suspeito',\n",
    "                                'Grau de instrução do suspeito']].copy()\n",
    "\n",
    "# Visualização dos valores nulos com um heatmap\n",
    "plt.figure(figsize=(20, 10))\n",
    "sns.heatmap(dataSelectedKMeansTest4.isnull(), cbar=False, cmap='viridis')\n",
    "plt.show()\n",
    "\n",
    "numeroDeLinhasComNulo = dataSelectedKMeansTest4.isnull().any(axis=1).sum()\n",
    "numeroDeLinhasSemNulo = dataSelectedKMeansTest4.notnull().all(axis=1).sum()\n",
    "totalDeLinhas = len(dataSelectedKMeansTest4)\n",
    "print(f\"Linhas sem valores nulos: {numeroDeLinhasSemNulo}/{totalDeLinhas} ({numeroDeLinhasSemNulo/totalDeLinhas:.2%})\")\n",
    "\n",
    "# Remove as linhas com valores nulos\n",
    "dataSelectedKMeansTest4 = RemoveLinhasComNulos(dataSelectedKMeansTest4)"
   ]
  },
  {
   "cell_type": "markdown",
   "metadata": {},
   "source": [
    "### Teste 4.1\n",
    "\n",
    "**Codificação:** Binária"
   ]
  },
  {
   "cell_type": "code",
   "execution_count": 60,
   "metadata": {},
   "outputs": [],
   "source": [
    "# Aplica a codificação Binária\n",
    "codificador = ce.BinaryEncoder(cols=dataSelectedKMeansTest4.columns)\n",
    "dataSelectedEncodedBinaryKMeansTest4_1 = codificador.fit_transform(dataSelectedKMeansTest4) \n",
    "\n",
    "# Definição de com quantos clusters será testado.\n",
    "numbersOfClustersKMeansTest4_1 = range(1, 15)\n",
    "\n",
    "# Vetores para armazenar os \"custos\" (medida quantitativa de quão bem os clusters foram formados em termos de homogeneidade interna) para o K-Means\n",
    "inertiaRandomTest4_1 = []\n",
    "inertiaKMeansTest4_1 = []"
   ]
  },
  {
   "cell_type": "code",
   "execution_count": 61,
   "metadata": {},
   "outputs": [],
   "source": [
    "# Calculando a inertia para a inicialização 'random'\n",
    "for clustersNumber in numbersOfClustersKMeansTest4_1:\n",
    "    kmeans_random = KMeans(n_clusters=clustersNumber, init='random', random_state=42, n_init = 1, max_iter = numeroDeEpocas, algorithm = 'lloyd', verbose=0)\n",
    "    kmeans_random.fit(dataSelectedEncodedBinaryKMeansTest4_1)\n",
    "    inertiaRandomTest4_1.append(kmeans_random.inertia_)"
   ]
  },
  {
   "cell_type": "code",
   "execution_count": 62,
   "metadata": {},
   "outputs": [],
   "source": [
    "# Calculando a inertia para a inicialização 'k-means++'\n",
    "for clustersNumber in numbersOfClustersKMeansTest4_1:\n",
    "    kmeans_kmeans = KMeans(n_clusters=clustersNumber, init='k-means++', random_state=42, n_init = 1, max_iter = numeroDeEpocas, algorithm = 'lloyd', verbose=0)\n",
    "    kmeans_kmeans.fit(dataSelectedEncodedBinaryKMeansTest4_1)\n",
    "    inertiaKMeansTest4_1.append(kmeans_kmeans.inertia_)"
   ]
  },
  {
   "cell_type": "code",
   "execution_count": null,
   "metadata": {},
   "outputs": [],
   "source": [
    "inertiasKMeansTest4_1 = pd.DataFrame({\n",
    "    \"Random\" : inertiaRandomTest4_1,\n",
    "    \"K-Means++\" : inertiaKMeansTest4_1,\n",
    "    \"Número de Clusters\" : numbersOfClustersKMeansTest4_1\n",
    "})\n",
    "\n",
    "# Visualização dos custos\n",
    "figKMeansTest4_1 = px.line(\n",
    "    inertiasKMeansTest4_1, \n",
    "    x = \"Número de Clusters\", \n",
    "    y = [\"Random\", \"K-Means++\"], \n",
    "    title = (\n",
    "        f\"Teste 4.1: Método do Cotovelo para o KMeans com até {len(numbersOfClustersKMeansTest4_1)} clusters. Dataset: {nomeDoArquivo}. Codificação: binária.  <br>\"\n",
    "        f\"Linhas com nulo removidas. Colunas: Sexo, Raça\\\\Cor, Faixa Etária e Grau de Instrução (apenas suspeito). {info}.\"\n",
    "    )\n",
    ")\n",
    "\n",
    "figKMeansTest4_1.update_layout(\n",
    "    xaxis_title=\"Número de Clusters\",\n",
    "    yaxis_title=\"Inércia\",\n",
    "    legend_title=\"Método de Inicialização\",\n",
    ")\n",
    "\n",
    "figKMeansTest4_1.show()"
   ]
  },
  {
   "cell_type": "code",
   "execution_count": 64,
   "metadata": {},
   "outputs": [],
   "source": [
    "# Exportando o gráfico como uma imagem PNG\n",
    "figKMeansTest4_1.write_image(f\"KMeansTeste4.1{info}.png\", width=1280, height=720)"
   ]
  },
  {
   "cell_type": "code",
   "execution_count": 65,
   "metadata": {},
   "outputs": [],
   "source": [
    "modelKMeansTest4_1 = KMeans(n_clusters=4, init='random', random_state=42, n_init = 1, max_iter = numeroDeEpocas, algorithm = 'lloyd', verbose=0)\n",
    "modelKMeansTest4_1.fit(dataSelectedEncodedBinaryKMeansTest4_1)\n",
    "\n",
    "labelsKMeansTest4_1 = modelKMeansTest4_1.labels_"
   ]
  },
  {
   "cell_type": "markdown",
   "metadata": {},
   "source": [
    "### Teste 4.2\n",
    "\n",
    "**Codificação:** One-Hot"
   ]
  },
  {
   "cell_type": "code",
   "execution_count": 66,
   "metadata": {},
   "outputs": [],
   "source": [
    "# Aplica a codificação One-Hot\n",
    "dataSelectedEncodedOneHotKMeansTest4_2 = pd.get_dummies(dataSelectedKMeansTest4)\n",
    "\n",
    "# Definição de com quantos clusters será testado.\n",
    "numbersOfClustersKMeansTest4_2 = range(1, 15)\n",
    "\n",
    "# Vetores para armazenar os \"custos\" (medida quantitativa de quão bem os clusters foram formados em termos de homogeneidade interna) para o K-Means\n",
    "inertiaRandomTest4_2 = []\n",
    "inertiaKMeansTest4_2 = []"
   ]
  },
  {
   "cell_type": "code",
   "execution_count": 67,
   "metadata": {},
   "outputs": [],
   "source": [
    "# Calculando a inertia para a inicialização 'random'\n",
    "for clustersNumber in numbersOfClustersKMeansTest4_2:\n",
    "    kmeans_random = KMeans(n_clusters=clustersNumber, init='random', random_state=42, n_init = 1, max_iter = numeroDeEpocas, algorithm = 'lloyd', verbose=0)\n",
    "    kmeans_random.fit(dataSelectedEncodedOneHotKMeansTest4_2)\n",
    "    inertiaRandomTest4_2.append(kmeans_random.inertia_)"
   ]
  },
  {
   "cell_type": "code",
   "execution_count": 68,
   "metadata": {},
   "outputs": [],
   "source": [
    "# Calculando a inertia para a inicialização 'k-means++'\n",
    "for clustersNumber in numbersOfClustersKMeansTest4_2:\n",
    "    kmeans_kmeans = KMeans(n_clusters=clustersNumber, init='k-means++', random_state=42, n_init = 1, max_iter = numeroDeEpocas, algorithm = 'lloyd', verbose=0)\n",
    "    kmeans_kmeans.fit(dataSelectedEncodedOneHotKMeansTest4_2)\n",
    "    inertiaKMeansTest4_2.append(kmeans_kmeans.inertia_)"
   ]
  },
  {
   "cell_type": "code",
   "execution_count": null,
   "metadata": {},
   "outputs": [],
   "source": [
    "inertiasKMeansTest4_2 = pd.DataFrame({\n",
    "    \"Random\" : inertiaRandomTest4_2,\n",
    "    \"K-Means++\" : inertiaKMeansTest4_2,\n",
    "    \"Número de Clusters\" : numbersOfClustersKMeansTest4_2\n",
    "})\n",
    "\n",
    "# Visualização dos custos\n",
    "figKMeansTest4_2 = px.line(\n",
    "    inertiasKMeansTest4_2, \n",
    "    x = \"Número de Clusters\", \n",
    "    y = [\"Random\", \"K-Means++\"], \n",
    "    title = (\n",
    "        f\"Teste 4.2: Método do Cotovelo para o KMeans com até {len(numbersOfClustersKMeansTest4_2)} clusters. Dataset: {nomeDoArquivo}. Codificação: One-Hot.  <br>\"\n",
    "        f\"Linhas com nulo removidas. Colunas: Sexo, Raça\\\\Cor, Faixa Etária e Grau de Instrução (apenas suspeito). {info}.\"\n",
    "    )\n",
    ")\n",
    "\n",
    "figKMeansTest4_2.update_layout(\n",
    "    xaxis_title=\"Número de Clusters\",\n",
    "    yaxis_title=\"Inércia\",\n",
    "    legend_title=\"Método de Inicialização\",\n",
    ")\n",
    "\n",
    "figKMeansTest4_2.show()"
   ]
  },
  {
   "cell_type": "code",
   "execution_count": 70,
   "metadata": {},
   "outputs": [],
   "source": [
    "# Exportando o gráfico como uma imagem PNG\n",
    "figKMeansTest4_2.write_image(f\"KMeansTeste4.2{info}.png\", width=1280, height=720)"
   ]
  },
  {
   "cell_type": "code",
   "execution_count": 71,
   "metadata": {},
   "outputs": [],
   "source": [
    "modelKMeansTest4_2 = KMeans(n_clusters=4, init='random', random_state=42, n_init = 1, max_iter = numeroDeEpocas, algorithm = 'lloyd', verbose=0)\n",
    "modelKMeansTest4_2.fit(dataSelectedEncodedOneHotKMeansTest4_2)\n",
    "\n",
    "labelsKMeansTest4_2 = modelKMeansTest4_2.labels_"
   ]
  },
  {
   "cell_type": "markdown",
   "metadata": {},
   "source": [
    "# Comparação dos Labels"
   ]
  },
  {
   "cell_type": "code",
   "execution_count": null,
   "metadata": {},
   "outputs": [],
   "source": [
    "# Comparação 1: KMeans com codificação binária com KMeans com codificação One-Hot\n",
    "samePositionsTestKMeans1 = labelsKMeansTest1_1 == labelsKMeansTest1_2\n",
    "samePositionsTestKMeans2 = labelsKMeansTest2_1 == labelsKMeansTest2_2\n",
    "samePositionsTestKMeans3 = labelsKMeansTest3_1 == labelsKMeansTest3_2\n",
    "samePositionsTestKMeans4 = labelsKMeansTest4_1 == labelsKMeansTest4_2\n",
    "\n",
    "# Comparação 2: KModes com KMeans com codificação binaria\n",
    "samePositionsTestKModes1KMeans1_1 = labelsKModesTest1 == labelsKMeansTest1_1\n",
    "samePositionsTestKModes2KMeans2_1 = labelsKModesTest2 == labelsKMeansTest2_1\n",
    "samePositionsTestKModes3KMeans3_1 = labelsKModesTest3 == labelsKMeansTest3_1\n",
    "samePositionsTestKModes4KMeans4_1 = labelsKModesTest4 == labelsKMeansTest4_1\n",
    "\n",
    "# Comparação 3: KModes com KMeans com codificação One-Hot\n",
    "samePositionsTestKModes1KMeans1_2 = labelsKModesTest1 == labelsKMeansTest1_2\n",
    "samePositionsTestKModes2KMeans2_2 = labelsKModesTest2 == labelsKMeansTest2_2\n",
    "samePositionsTestKModes3KMeans3_2 = labelsKModesTest3 == labelsKMeansTest3_2\n",
    "samePositionsTestKModes4KMeans4_2 = labelsKModesTest4 == labelsKMeansTest4_2\n",
    "\n",
    "# Comparação 1\n",
    "commonCountTestKMeans1 = np.sum(samePositionsTestKMeans1)\n",
    "commonCountTestKMeans2 = np.sum(samePositionsTestKMeans2)\n",
    "commonCountTestKMeans3 = np.sum(samePositionsTestKMeans3)\n",
    "commonCountTestKMeans4 = np.sum(samePositionsTestKMeans4)\n",
    "\n",
    "# Comparação 2\n",
    "commonCountTestKModes1KMeans1_1 = np.sum(samePositionsTestKModes1KMeans1_1)\n",
    "commonCountTestKModes2KMeans2_1 = np.sum(samePositionsTestKModes2KMeans2_1)\n",
    "commonCountTestKModes3KMeans3_1 = np.sum(samePositionsTestKModes3KMeans3_1)\n",
    "commonCountTestKModes4KMeans4_1 = np.sum(samePositionsTestKModes4KMeans4_1)\n",
    "\n",
    "# Comparação 3\n",
    "commonCountTestKModes1KMeans1_2 = np.sum(samePositionsTestKModes1KMeans1_2)\n",
    "commonCountTestKModes2KMeans2_2 = np.sum(samePositionsTestKModes2KMeans2_2)\n",
    "commonCountTestKModes3KMeans3_2 = np.sum(samePositionsTestKModes3KMeans3_2)\n",
    "commonCountTestKModes4KMeans4_2 = np.sum(samePositionsTestKModes4KMeans4_2)\n",
    "\n",
    "# Exibição dos resultados\n",
    "print(f\"Número de valores iguais nas mesmas posições KMeans Binário vs KMeans One-Hot Teste 1: {commonCountTestKMeans1}/{len(labelsKMeansTest1_1)} ({commonCountTestKMeans1/len(labelsKMeansTest1_1):.2%})\")\n",
    "print(f\"Número de valores iguais nas mesmas posições KMeans Binário vs KMeans One-Hot Teste 2: {commonCountTestKMeans2}/{len(labelsKMeansTest2_1)} ({commonCountTestKMeans2/len(labelsKMeansTest2_1):.2%})\")\n",
    "print(f\"Número de valores iguais nas mesmas posições KMeans Binário vs KMeans One-Hot Teste 3: {commonCountTestKMeans3}/{len(labelsKMeansTest3_1)} ({commonCountTestKMeans3/len(labelsKMeansTest3_1):.2%})\")\n",
    "print(f\"Número de valores iguais nas mesmas posições KMeans Binário vs KMeans One-Hot Teste 4: {commonCountTestKMeans4}/{len(labelsKMeansTest4_1)} ({commonCountTestKMeans4/len(labelsKMeansTest4_1):.2%})\")\n",
    "print(\"\\n\")\n",
    "print(f\"Número de valores iguais nas mesmas posições KModes vs KMeans (Binário) Teste 1: {commonCountTestKModes1KMeans1_1}/{len(labelsKModesTest1)} ({commonCountTestKModes1KMeans1_1/len(labelsKModesTest1):.2%})\")\n",
    "print(f\"Número de valores iguais nas mesmas posições KModes vs KMeans (Binário) Teste 2: {commonCountTestKModes2KMeans2_1}/{len(labelsKModesTest2)} ({commonCountTestKModes2KMeans2_1/len(labelsKModesTest2):.2%})\")\n",
    "print(f\"Número de valores iguais nas mesmas posições KModes vs KMeans (Binário) Teste 3: {commonCountTestKModes3KMeans3_1}/{len(labelsKModesTest3)} ({commonCountTestKModes3KMeans3_1/len(labelsKModesTest3):.2%})\")\n",
    "print(f\"Número de valores iguais nas mesmas posições KModes vs KMeans (Binário) Teste 4: {commonCountTestKModes4KMeans4_1}/{len(labelsKModesTest4)} ({commonCountTestKModes4KMeans4_1/len(labelsKModesTest4):.2%})\")\n",
    "print(\"\\n\")\n",
    "print(f\"Número de valores iguais nas mesmas posições KModes vs KMeans (One-Hot) Teste 1: {commonCountTestKModes1KMeans1_2}/{len(labelsKModesTest1)} ({commonCountTestKModes1KMeans1_2/len(labelsKModesTest1):.2%})\")\n",
    "print(f\"Número de valores iguais nas mesmas posições KModes vs KMeans (One-Hot) Teste 2: {commonCountTestKModes2KMeans2_2}/{len(labelsKModesTest2)} ({commonCountTestKModes2KMeans2_2/len(labelsKModesTest2):.2%})\")\n",
    "print(f\"Número de valores iguais nas mesmas posições KModes vs KMeans (One-Hot) Teste 3: {commonCountTestKModes3KMeans3_2}/{len(labelsKModesTest3)} ({commonCountTestKModes3KMeans3_2/len(labelsKModesTest3):.2%})\")\n",
    "print(f\"Número de valores iguais nas mesmas posições KModes vs KMeans (One-Hot) Teste 4: {commonCountTestKModes4KMeans4_2}/{len(labelsKModesTest4)} ({commonCountTestKModes4KMeans4_2/len(labelsKModesTest4):.2%})\")"
   ]
  },
  {
   "cell_type": "code",
   "execution_count": null,
   "metadata": {},
   "outputs": [],
   "source": [
    "# Criação das listas para o DataFrame\n",
    "testes = []\n",
    "comparacoes = []\n",
    "percentuais = []\n",
    "\n",
    "# Teste 1\n",
    "testes.extend([1, 1, 1])\n",
    "comparacoes.extend([\n",
    "    'KMeans Binário vs KMeans One-Hot',\n",
    "    'KModes vs KMeans (Binário)',\n",
    "    'KModes vs KMeans (One-Hot)'\n",
    "])\n",
    "percentuais.extend([\n",
    "    (commonCountTestKMeans1 / len(labelsKMeansTest1_1)) * 100,\n",
    "    (commonCountTestKModes1KMeans1_1 / len(labelsKModesTest1)) * 100,\n",
    "    (commonCountTestKModes1KMeans1_2 / len(labelsKModesTest1)) * 100\n",
    "])\n",
    "\n",
    "# Teste 2\n",
    "testes.extend([2, 2, 2])\n",
    "comparacoes.extend([\n",
    "    'KMeans Binário vs KMeans One-Hot',\n",
    "    'KModes vs KMeans (Binário)',\n",
    "    'KModes vs KMeans (One-Hot)'\n",
    "])\n",
    "percentuais.extend([\n",
    "    (commonCountTestKMeans2 / len(labelsKMeansTest2_1)) * 100,\n",
    "    (commonCountTestKModes2KMeans2_1 / len(labelsKModesTest2)) * 100,\n",
    "    (commonCountTestKModes2KMeans2_2 / len(labelsKModesTest2)) * 100\n",
    "])\n",
    "\n",
    "# Teste 3\n",
    "testes.extend([3, 3, 3])\n",
    "comparacoes.extend([\n",
    "    'KMeans Binário vs KMeans One-Hot',\n",
    "    'KModes vs KMeans (Binário)',\n",
    "    'KModes vs KMeans (One-Hot)'\n",
    "])\n",
    "percentuais.extend([\n",
    "    (commonCountTestKMeans3 / len(labelsKMeansTest3_1)) * 100,\n",
    "    (commonCountTestKModes3KMeans3_1 / len(labelsKModesTest3)) * 100,\n",
    "    (commonCountTestKModes3KMeans3_2 / len(labelsKModesTest3)) * 100\n",
    "])\n",
    "\n",
    "# Teste 4\n",
    "testes.extend([4, 4, 4])\n",
    "comparacoes.extend([\n",
    "    'KMeans Binário vs KMeans One-Hot',\n",
    "    'KModes vs KMeans (Binário)',\n",
    "    'KModes vs KMeans (One-Hot)'\n",
    "])\n",
    "percentuais.extend([\n",
    "    (commonCountTestKMeans4 / len(labelsKMeansTest4_1)) * 100,\n",
    "    (commonCountTestKModes4KMeans4_1 / len(labelsKModesTest4)) * 100,\n",
    "    (commonCountTestKModes4KMeans4_2 / len(labelsKModesTest4)) * 100\n",
    "])\n",
    "\n",
    "# Criação do DataFrame\n",
    "df = pd.DataFrame({\n",
    "    'Teste': testes,\n",
    "    'Comparação': comparacoes,\n",
    "    'Percentual de valores iguais (%)': percentuais\n",
    "})\n",
    "\n",
    "# Criação do gráfico\n",
    "fig = px.bar(\n",
    "    df,\n",
    "    x='Teste',\n",
    "    y='Percentual de valores iguais (%)',\n",
    "    color='Comparação',\n",
    "    barmode='group',\n",
    "    title=f'Comparação dos Resultados dos Agrupamentos com 4 clusters. {info}',\n",
    "    labels={'Teste': 'Teste', 'Percentual de valores iguais (%)': 'Percentual de Valores Iguais (%)'}\n",
    ")\n",
    "\n",
    "# Exibição do gráfico\n",
    "fig.show()\n",
    "\n",
    "# Exportando o gráfico como uma imagem PNG\n",
    "fig.write_image(f\"Concordância{info}.png\", width=1280, height=720)"
   ]
  },
  {
   "cell_type": "markdown",
   "metadata": {},
   "source": [
    "# Processamento das imagens"
   ]
  },
  {
   "cell_type": "code",
   "execution_count": 98,
   "metadata": {},
   "outputs": [],
   "source": [
    "# Carregar as imagens\n",
    "KModesTeste1 = Image.open(f'KModesTeste1{info}.png')\n",
    "KModesTeste2 = Image.open(f'KModesTeste2{info}.png')\n",
    "KModesTeste3 = Image.open(f'KModesTeste3{info}.png')\n",
    "KModesTeste4 = Image.open(f'KModesTeste4{info}.png')\n",
    "\n",
    "# Unir imagens verticalmente\n",
    "larguraMaxima = KModesTeste1.width\n",
    "alturaTotal = 4*KModesTeste1.height\n",
    "\n",
    "novaImagem = Image.new('RGB', (larguraMaxima, alturaTotal))\n",
    "novaImagem.paste(KModesTeste1, (0, 0))\n",
    "novaImagem.paste(KModesTeste2, (0, KModesTeste1.height))\n",
    "novaImagem.paste(KModesTeste3, (0, 2*KModesTeste1.height))\n",
    "novaImagem.paste(KModesTeste4, (0, 3*KModesTeste1.height))\n",
    "\n",
    "# Salvar as novas imagens\n",
    "novaImagem.save(f'Testes de Cotovelo KModes ({info}).jpg')\n"
   ]
  },
  {
   "cell_type": "code",
   "execution_count": 99,
   "metadata": {},
   "outputs": [],
   "source": [
    "# Carregar as imagens\n",
    "KMeansTeste1_1 = Image.open(f'KMeansTeste1.1{info}.png')\n",
    "KMeansTeste1_2 = Image.open(f'KMeansTeste1.2{info}.png')\n",
    "KMeansTeste2_1 = Image.open(f'KMeansTeste2.1{info}.png')\n",
    "KMeansTeste2_2 = Image.open(f'KMeansTeste2.2{info}.png')\n",
    "KMeansTeste3_1 = Image.open(f'KMeansTeste3.1{info}.png')\n",
    "KMeansTeste3_2 = Image.open(f'KMeansTeste3.2{info}.png')\n",
    "KMeansTeste4_1 = Image.open(f'KMeansTeste4.1{info}.png')\n",
    "KMeansTeste4_2 = Image.open(f'KMeansTeste4.2{info}.png')\n",
    "\n",
    "# Unir imagens verticalmente\n",
    "larguraMaxima = 2*KMeansTeste1_1.width\n",
    "alturaTotal = 4*KMeansTeste1_1.height\n",
    "\n",
    "novaImagem = Image.new('RGB', (larguraMaxima, alturaTotal))\n",
    "\n",
    "novaImagem.paste(KMeansTeste1_1, (0, 0))\n",
    "novaImagem.paste(KMeansTeste1_2, (KMeansTeste1_1.width, 0))\n",
    "\n",
    "novaImagem.paste(KMeansTeste2_1, (0, KMeansTeste1_1.height))\n",
    "novaImagem.paste(KMeansTeste2_2, (KMeansTeste1_1.width, KMeansTeste1_1.height))\n",
    "\n",
    "novaImagem.paste(KMeansTeste3_1, (0, 2*KMeansTeste1_1.height))\n",
    "novaImagem.paste(KMeansTeste3_2, (KMeansTeste1_1.width, 2*KMeansTeste1_1.height))\n",
    "\n",
    "novaImagem.paste(KMeansTeste4_1, (0, 3*KMeansTeste1_1.height))\n",
    "novaImagem.paste(KMeansTeste4_2, (KMeansTeste1_1.width, 3*KMeansTeste1_1.height))\n",
    "\n",
    "# Salvar as novas imagens\n",
    "novaImagem.save(f'Testes de Cotovelo KMeans ({info}).jpg')\n"
   ]
  },
  {
   "cell_type": "code",
   "execution_count": 100,
   "metadata": {},
   "outputs": [],
   "source": [
    "# Carregar as imagens\n",
    "testesCotoveloKMeans = Image.open(f'Testes de Cotovelo KMeans ({info}).jpg')\n",
    "testesCotoveloKModes = Image.open(f'Testes de Cotovelo KModes ({info}).jpg')\n",
    "\n",
    "\n",
    "# Unir imagens verticalmente\n",
    "larguraMaxima = testesCotoveloKMeans.width + testesCotoveloKModes.width\n",
    "alturaTotal = testesCotoveloKMeans.height\n",
    "\n",
    "novaImagem = Image.new('RGB', (larguraMaxima, alturaTotal))\n",
    "novaImagem.paste(testesCotoveloKModes, (0, 0))\n",
    "novaImagem.paste(testesCotoveloKMeans, (testesCotoveloKModes.width, 0))\n",
    "\n",
    "# Salvar as novas imagens\n",
    "novaImagem.save(f'Testes de Cotovelo KModes e KMeans lado a lado ({info}).jpg')\n"
   ]
  },
  {
   "cell_type": "code",
   "execution_count": null,
   "metadata": {},
   "outputs": [],
   "source": []
  }
 ],
 "metadata": {
  "kernelspec": {
   "display_name": "base",
   "language": "python",
   "name": "python3"
  },
  "language_info": {
   "codemirror_mode": {
    "name": "ipython",
    "version": 3
   },
   "file_extension": ".py",
   "mimetype": "text/x-python",
   "name": "python",
   "nbconvert_exporter": "python",
   "pygments_lexer": "ipython3",
   "version": "3.12.4"
  }
 },
 "nbformat": 4,
 "nbformat_minor": 2
}
