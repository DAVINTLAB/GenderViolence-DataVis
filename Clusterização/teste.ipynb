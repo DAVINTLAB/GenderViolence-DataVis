{
 "cells": [
  {
   "cell_type": "markdown",
   "metadata": {},
   "source": [
    "# Clusterização com KNN"
   ]
  },
  {
   "cell_type": "markdown",
   "metadata": {},
   "source": [
    "## Teste 1\n",
    "\n",
    "Clusterização usando todas as colunas com poucos valores únicos e removendo as linhas com pelo menos um nulo."
   ]
  },
  {
   "cell_type": "code",
   "execution_count": null,
   "metadata": {},
   "outputs": [],
   "source": [
    "dataSelectedKNNTest1 = data[[\n",
    "                     #'Data de cadastro',\n",
    "                     'Tipo de violência',\n",
    "                     'Violência familiar',\n",
    "                     'Denunciante',\n",
    "                     'Filhos vítima',\n",
    "                     'Dependência Financeira da Vítima',\n",
    "                     'Sexo da vítima',\n",
    "                     'Raça\\\\Cor da vítima',\n",
    "                     'Faixa etária da vítima',\n",
    "                     'Grau de instrução da vítima',\n",
    "                     'Frequência',\n",
    "                     'Coabitação contexto',\n",
    "                     'Tempo de violência contexto',\n",
    "                     'Risco contexto',\n",
    "                     'Relação vítima-suspeito',\n",
    "                     'Sexo do suspeito',\n",
    "                     'Raça\\\\Cor do suspeito',\n",
    "                     'Faixa etária do suspeito',\n",
    "                     'Grau de instrução do suspeito',\n",
    "                     'Drogas Álcool Suspeito',\n",
    "                     'Comportamento efeito agressor',\n",
    "                     'Filhos violência',\n",
    "                     #'Violações',\n",
    "                     'UF',\n",
    "                     #'Município',\n",
    "                     'Residência'\n",
    "                    ]].copy()\n",
    "\n",
    "# Visualização dos valores nulos com um heatmap\n",
    "plt.figure(figsize=(20, 10)) \n",
    "sns.heatmap(dataSelectedKNNTest1.isnull(), cbar=False, cmap='viridis')\n",
    "plt.show()\n",
    "\n",
    "numeroDeLinhasComNulo = dataSelectedKNNTest1.isnull().any(axis=1).sum()\n",
    "numeroDeLinhasSemNulo = dataSelectedKNNTest1.notnull().all(axis=1).sum()\n",
    "totalDeLinhas = len(dataSelectedKNNTest1)\n",
    "print(f\"Linhas sem valores nulos: {numeroDeLinhasSemNulo}/{totalDeLinhas} ({numeroDeLinhasSemNulo/totalDeLinhas:.2%})\")\n",
    "\n",
    "# Remove as linhas com valores nulos\n",
    "dataSelectedKNNTest1 = RemoveLinhasComNulos(dataSelectedKNNTest1)"
   ]
  },
  {
   "cell_type": "markdown",
   "metadata": {},
   "source": [
    "### Teste 1.1\n",
    "\n",
    "**Codificação**: Binária"
   ]
  },
  {
   "cell_type": "code",
   "execution_count": null,
   "metadata": {},
   "outputs": [],
   "source": [
    "# Aplica a codificação Binária\n",
    "codificador = ce.BinaryEncoder(cols=dataSelectedKNNTest1.columns)\n",
    "dataSelectedEncodedBinaryKNNTest1_1 = codificador.fit_transform(dataSelectedKNNTest1) \n",
    "\n",
    "# Definição de com quantos clusters será testado.\n",
    "numbersOfNeighborsKNNTest1_1 = range(1, 15)\n",
    "\n",
    "# Vetores para armazenar os \"custos\" (medida quantitativa de quão bem os clusters foram formados em termos de homogeneidade interna) para o K-Means\n",
    "inertiaRandomTest1_1 = []\n",
    "inertiaKNNTest1_1 = []"
   ]
  },
  {
   "cell_type": "code",
   "execution_count": null,
   "metadata": {},
   "outputs": [],
   "source": [
    "# Calculando para o algoritmo 'ball_tree'\n",
    "for clustersNumber in numbersOfNeighborsKNNTest1_1:\n",
    "    knnBallTree = KNeighborsClassifier(n_neighbors=numbersOfNeighborsKNNTest1_1, weights='uniform', algorithm='ball_tree', p=1, metric='minkowski', metric_params=None, n_jobs=-1)\n",
    "    knnBallTree.fit(dataSelectedEncodedBinaryKNNTest1_1)\n",
    "    inertiaRandomTest1_1.append(KNN_random.inertia_)"
   ]
  },
  {
   "cell_type": "code",
   "execution_count": null,
   "metadata": {},
   "outputs": [],
   "source": [
    "# Calculando a inertia para a inicialização 'k-means++'\n",
    "for clustersNumber in numbersOfNeighborsKNNTest1_1:\n",
    "    KNN_KNN = KNN(n_clusters=clustersNumber, init='k-means++', random_state=42, n_init = 1, max_iter = numeroDeEpocas, algorithm = 'lloyd', verbose=0)\n",
    "    KNN_KNN.fit(dataSelectedEncodedBinaryKNNTest1_1)\n",
    "    inertiaKNNTest1_1.append(KNN_KNN.inertia_)"
   ]
  },
  {
   "cell_type": "code",
   "execution_count": null,
   "metadata": {},
   "outputs": [],
   "source": [
    "inertiasKNNTest1_1 = pd.DataFrame({\n",
    "    \"Random\" : inertiaRandomTest1_1,\n",
    "    \"K-Means++\" : inertiaKNNTest1_1,\n",
    "    \"Número de Clusters\" : numbersOfNeighborsKNNTest1_1\n",
    "})\n",
    "\n",
    "# Visualização dos custos\n",
    "figKNNTest1_1 = px.line(\n",
    "    inertiasKNNTest1_1, \n",
    "    x = \"Número de Clusters\", \n",
    "    y = [\"Random\", \"K-Means++\"], \n",
    "    title = (\n",
    "        f\"Teste 1.1: Método do Cotovelo para o KNN com até {len(numbersOfNeighborsKNNTest1_1)} clusters. Dataset: {nomeDoArquivo}. Codificação: binária.<br>\"\n",
    "        f\"Linhas com nulo removidas. Colunas Data de Cadastro, Violações e Município removidas. {info}.\"\n",
    "    )\n",
    ")\n",
    "\n",
    "figKNNTest1_1.update_layout(\n",
    "    xaxis_title=\"Número de Clusters\",\n",
    "    yaxis_title=\"Inércia\",\n",
    "    legend_title=\"Método de Inicialização\"\n",
    ")\n",
    "\n",
    "figKNNTest1_1.show()"
   ]
  },
  {
   "cell_type": "code",
   "execution_count": null,
   "metadata": {},
   "outputs": [],
   "source": [
    "# Exportando o gráfico como uma imagem PNG\n",
    "figKNNTest1_1.write_image(f\"KNNTeste1.1{info}.png\", width=1280, height=720)\n"
   ]
  },
  {
   "cell_type": "code",
   "execution_count": null,
   "metadata": {},
   "outputs": [],
   "source": [
    "modelKNNTest1_1 = KNN(n_clusters=4, init='random', random_state=42, n_init = 1, max_iter = numeroDeEpocas, algorithm = 'lloyd', verbose=0)\n",
    "modelKNNTest1_1.fit(dataSelectedEncodedBinaryKNNTest1_1)\n",
    "\n",
    "labelsKNNTest1_1 = modelKNNTest1_1.labels_\n",
    "\n",
    "dataSelectedEncodedBinaryKNNTest1_1['Cluster'] = labelsKNNTest1_1"
   ]
  },
  {
   "cell_type": "code",
   "execution_count": null,
   "metadata": {},
   "outputs": [],
   "source": [
    "#fig = px.histogram(dataSelectedEncodedBinaryKNNTest1_1, \n",
    "#                   x='Cluster',\n",
    "#                   color='Faixa etária do suspeito', \n",
    "#                   barmode='group',\n",
    "#                   title='Distribuição da Faixa etária do suspeito por Cluster', \n",
    "#                   labels={'Cluster': 'Cluster', 'count': 'Contagem'},\n",
    "#                   color_discrete_sequence=px.colors.sequential.Viridis,\n",
    "#                   #category_orders={'Faixa etária do suspeito': faixa_etaria_ordenada}\n",
    "#                   )\n",
    "#\n",
    "#fig.update_layout(xaxis_title='Cluster', yaxis_title='Contagem', width=1000, height=600)\n",
    "#fig.show()"
   ]
  },
  {
   "cell_type": "code",
   "execution_count": null,
   "metadata": {},
   "outputs": [],
   "source": [
    "#fig = px.histogram(dataSelectedFilteredKModesTest1, x='Raça\\\\Cor do suspeito', color='Sexo do suspeito',barmode='group', facet_col='Cluster', \n",
    "#                   title='Distribuição da Raça\\\\Cor do suspeito por Cluster e Sexo', \n",
    "#                   labels={'Raça\\\\Cor do suspeito': 'Raça\\\\Cor do suspeito', 'count': 'Contagem'},\n",
    "#                   color_discrete_sequence=px.colors.sequential.Viridis)\n",
    "#\n",
    "#fig.update_layout(xaxis_title='Raça\\\\Cor do suspeito', yaxis_title='Contagem', width=1000, height=600)\n",
    "#fig.show()"
   ]
  },
  {
   "cell_type": "code",
   "execution_count": null,
   "metadata": {},
   "outputs": [],
   "source": [
    "## Agrupar os dados por 'Cenário da violação' e 'Faixa etária da vítima' e calcular a soma da quantidade de vítimas\n",
    "#df_summary = df_gaucho.groupby(['Cenário da violação', 'Faixa etária da vítima']).size().reset_index(name='Count')\n",
    "#\n",
    "## Criar uma coluna de valor fictício para o treemap\n",
    "#df_summary['value'] = df_summary['Count']\n",
    "#\n",
    "## Criar uma coluna com os caminhos para o treemap\n",
    "#df_summary['path'] = df_summary['Cenário da violação'] + \" - \" + df_summary['Faixa etária da vítima']\n",
    "## Criar o gráfico de treemap\n",
    "#fig = px.treemap(df_summary,\n",
    "#                 path=['Faixa etária da vítima', 'Cenário da violação'],\n",
    "#                 values='value',\n",
    "#                 color='value',\n",
    "#                 color_continuous_scale='Viridis',\n",
    "#                 title='Distribuição por Faixa Etária da Vítima e Cenário de Violação',\n",
    "#                 color_continuous_midpoint=np.average(df_summary['value']),\n",
    "#                 hover_data=['path'])\n",
    "#\n",
    "## Ajustes no layout do gráfico\n",
    "#fig.update_layout(margin=dict(t=50, l=25, r=25, b=25),height=1500)\n",
    "#fig.show()"
   ]
  },
  {
   "cell_type": "markdown",
   "metadata": {},
   "source": [
    "### Teste 1.2\n",
    "\n",
    "**Codificação**: One-Hot"
   ]
  },
  {
   "cell_type": "code",
   "execution_count": null,
   "metadata": {},
   "outputs": [],
   "source": [
    "# Aplica a codificação One-Hot\n",
    "dataSelectedEncodedOneHotKNNTest1_2 = pd.get_dummies(dataSelectedKNNTest1)\n",
    "\n",
    "# Definição de com quantos clusters será testado.\n",
    "numbersOfNeighborsKNNTest1_2 = range(1, 15)\n",
    "\n",
    "# Vetores para armazenar os \"custos\" (medida quantitativa de quão bem os clusters foram formados em termos de homogeneidade interna) para o K-Means\n",
    "inertiaRandomTest1_2 = []\n",
    "inertiaKNNTest1_2 = []"
   ]
  },
  {
   "cell_type": "code",
   "execution_count": null,
   "metadata": {},
   "outputs": [],
   "source": [
    "# Calculando a inertia para a inicialização 'random'\n",
    "for clustersNumber in numbersOfNeighborsKNNTest1_2:\n",
    "    KNN_random = KNN(n_clusters=clustersNumber, init='random', random_state=42, n_init = 1, max_iter = numeroDeEpocas, algorithm = 'lloyd', verbose=0)\n",
    "    KNN_random.fit(dataSelectedEncodedOneHotKNNTest1_2)\n",
    "    inertiaRandomTest1_2.append(KNN_random.inertia_)"
   ]
  },
  {
   "cell_type": "code",
   "execution_count": null,
   "metadata": {},
   "outputs": [],
   "source": [
    "# Calculando a inertia para a inicialização 'k-means++'\n",
    "for clustersNumber in numbersOfNeighborsKNNTest1_2:\n",
    "    KNN_KNN = KNN(n_clusters=clustersNumber, init='k-means++', random_state=42, n_init = 1, max_iter = numeroDeEpocas, algorithm = 'lloyd', verbose=0)\n",
    "    KNN_KNN.fit(dataSelectedEncodedOneHotKNNTest1_2)\n",
    "    inertiaKNNTest1_2.append(KNN_KNN.inertia_)"
   ]
  },
  {
   "cell_type": "code",
   "execution_count": null,
   "metadata": {},
   "outputs": [],
   "source": [
    "inertiasKNNTest1_2 = pd.DataFrame({\n",
    "    \"Random\" : inertiaRandomTest1_2,\n",
    "    \"K-Means++\" : inertiaKNNTest1_2,\n",
    "    \"Número de Clusters\" : numbersOfNeighborsKNNTest1_2\n",
    "})\n",
    "\n",
    "# Visualização dos custos\n",
    "figKNNTest1_2 = px.line(\n",
    "    inertiasKNNTest1_2, \n",
    "    x = \"Número de Clusters\", \n",
    "    y = [\"Random\", \"K-Means++\"], \n",
    "    title = (\n",
    "        f\"Teste 1.2: Método do Cotovelo para o KNN com até {len(numbersOfNeighborsKNNTest1_2)} clusters. Dataset: {nomeDoArquivo}. Codificação: One-Hot.<br>\"\n",
    "        f\"Linhas com nulo removidas. Colunas Data de Cadastro, Violações e Município removidas. {info}.\"\n",
    "    )\n",
    ")\n",
    "\n",
    "figKNNTest1_2.update_layout(\n",
    "    xaxis_title=\"Número de Clusters\",\n",
    "    yaxis_title=\"Inércia\",\n",
    "    legend_title=\"Método de Inicialização\"\n",
    ")\n",
    "\n",
    "figKNNTest1_2.show()"
   ]
  },
  {
   "cell_type": "code",
   "execution_count": null,
   "metadata": {},
   "outputs": [],
   "source": [
    "# Exportando o gráfico como uma imagem PNG\n",
    "figKNNTest1_2.write_image(f\"KNNTeste1.2{info}.png\", width=1280, height=720)"
   ]
  },
  {
   "cell_type": "code",
   "execution_count": null,
   "metadata": {},
   "outputs": [],
   "source": [
    "modelKNNTest1_2 = KNN(n_clusters=4, init='random', random_state=42, n_init = 1, max_iter = numeroDeEpocas, algorithm = 'lloyd', verbose=0)\n",
    "modelKNNTest1_2.fit(dataSelectedEncodedOneHotKNNTest1_2)\n",
    "\n",
    "labelsKNNTest1_2 = modelKNNTest1_2.labels_"
   ]
  },
  {
   "cell_type": "markdown",
   "metadata": {},
   "source": [
    "## Teste 2\n",
    "\n",
    "Teste de clusterização sobre colunas especificas de perfil de vítima e suspeito, para as duas codificações. Colunas usadas:\n",
    "\n",
    " 'Sexo da vítima',\n",
    " 'Sexo do suspeito', \n",
    " 'Raça\\Cor da vítima', \n",
    " 'Raça\\Cor do suspeito',\n",
    " 'Faixa etária da vítima', \n",
    " 'Faixa etária do suspeito',\n",
    " 'Grau de instrução da vítima', \n",
    " 'Grau de instrução do suspeito'"
   ]
  },
  {
   "cell_type": "code",
   "execution_count": null,
   "metadata": {},
   "outputs": [],
   "source": [
    "# Seleciona as colunas que serão utilizadas\n",
    "dataSelectedKNNTest2 = data[['Sexo da vítima',\n",
    "                                'Sexo do suspeito',\n",
    "                                'Raça\\\\Cor da vítima',\n",
    "                                'Raça\\\\Cor do suspeito',\n",
    "                                'Faixa etária da vítima',\n",
    "                                'Faixa etária do suspeito',\n",
    "                                'Grau de instrução da vítima',\n",
    "                                'Grau de instrução do suspeito']].copy()\n",
    "\n",
    "# Visualização dos valores nulos com um heatmap\n",
    "plt.figure(figsize=(20, 10)) \n",
    "sns.heatmap(dataSelectedKNNTest2.isnull(), cbar=False, cmap='viridis')\n",
    "plt.show()\n",
    "\n",
    "numeroDeLinhasComNulo = dataSelectedKNNTest2.isnull().any(axis=1).sum()\n",
    "numeroDeLinhasSemNulo = dataSelectedKNNTest2.notnull().all(axis=1).sum()\n",
    "totalDeLinhas = len(dataSelectedKNNTest2)\n",
    "print(f\"Linhas sem valores nulos: {numeroDeLinhasSemNulo}/{totalDeLinhas} ({numeroDeLinhasSemNulo/totalDeLinhas:.2%})\")\n",
    "\n",
    "# Remove as linhas com valores nulos\n",
    "dataSelectedKNNTest2 = RemoveLinhasComNulos(dataSelectedKNNTest2)"
   ]
  },
  {
   "cell_type": "markdown",
   "metadata": {},
   "source": [
    "### Teste 2.1\n",
    "\n",
    "**Codificação**: Binária"
   ]
  },
  {
   "cell_type": "code",
   "execution_count": null,
   "metadata": {},
   "outputs": [],
   "source": [
    "# Aplica a codificação Binária\n",
    "codificador = ce.BinaryEncoder(cols=dataSelectedKNNTest2.columns)\n",
    "dataSelectedEncodedBinaryKNNTest2_1 = codificador.fit_transform(dataSelectedKNNTest2) \n",
    "\n",
    "# Definição de com quantos clusters será testado.\n",
    "numbersOfNeighborsKNNTest2_1 = range(1, 15)\n",
    "\n",
    "# Vetores para armazenar os \"custos\" (medida quantitativa de quão bem os clusters foram formados em termos de homogeneidade interna) para o K-Means\n",
    "inertiaRandomTest2_1 = []\n",
    "inertiaKNNTest2_1 = []"
   ]
  },
  {
   "cell_type": "code",
   "execution_count": null,
   "metadata": {},
   "outputs": [],
   "source": [
    "# Calculando a inertia para a inicialização 'random'\n",
    "for clustersNumber in numbersOfNeighborsKNNTest2_1:\n",
    "    KNN_random = KNN(n_clusters=clustersNumber, init='random', random_state=42, n_init = 1, max_iter = numeroDeEpocas, algorithm = 'lloyd', verbose=0)\n",
    "    KNN_random.fit(dataSelectedEncodedBinaryKNNTest2_1)\n",
    "    inertiaRandomTest2_1.append(KNN_random.inertia_)"
   ]
  },
  {
   "cell_type": "code",
   "execution_count": null,
   "metadata": {},
   "outputs": [],
   "source": [
    "# Calculando a inertia para a inicialização 'k-means++'\n",
    "for clustersNumber in numbersOfNeighborsKNNTest2_1:\n",
    "    KNN_KNN = KNN(n_clusters=clustersNumber, init='k-means++', random_state=42, n_init = 1, max_iter = numeroDeEpocas, algorithm = 'lloyd', verbose=0)\n",
    "    KNN_KNN.fit(dataSelectedEncodedBinaryKNNTest2_1)\n",
    "    inertiaKNNTest2_1.append(KNN_KNN.inertia_)"
   ]
  },
  {
   "cell_type": "code",
   "execution_count": null,
   "metadata": {},
   "outputs": [],
   "source": [
    "inertiasKNNTest2_1 = pd.DataFrame({\n",
    "    \"Random\" : inertiaRandomTest2_1,\n",
    "    \"K-Means++\" : inertiaKNNTest2_1,\n",
    "    \"Número de Clusters\" : numbersOfNeighborsKNNTest2_1\n",
    "})\n",
    "\n",
    "# Visualização dos custos\n",
    "figKNNTest2_1 = px.line(\n",
    "    inertiasKNNTest2_1, \n",
    "    x = \"Número de Clusters\", \n",
    "    y = [\"Random\", \"K-Means++\"], \n",
    "    title = (\n",
    "        f\"Teste 2.1: Método do Cotovelo para o KNN com até {len(numbersOfNeighborsKNNTest2_1)} clusters. Dataset: {nomeDoArquivo}. Codificação: binária.<br>\"\n",
    "        f\"Linhas com nulo removidas. Colunas: Sexo, Raça\\\\Cor, Faixa Etária e Grau de Instrução (vítima e suspeito). {info}.\"\n",
    "    )\n",
    ")\n",
    "\n",
    "figKNNTest2_1.update_layout(\n",
    "    xaxis_title=\"Número de Clusters\",\n",
    "    yaxis_title=\"Inércia\",\n",
    "    legend_title=\"Método de Inicialização\"\n",
    ")\n",
    "\n",
    "figKNNTest2_1.show()"
   ]
  },
  {
   "cell_type": "code",
   "execution_count": null,
   "metadata": {},
   "outputs": [],
   "source": [
    "# Exportando o gráfico como uma imagem PNG\n",
    "figKNNTest2_1.write_image(f\"KNNTeste2.1{info}.png\", width=1280, height=720)"
   ]
  },
  {
   "cell_type": "code",
   "execution_count": null,
   "metadata": {},
   "outputs": [],
   "source": [
    "modelKNNTest2_1 = KNN(n_clusters=4, init='random', random_state=42, n_init = 1, max_iter = numeroDeEpocas, algorithm = 'lloyd', verbose=0)\n",
    "modelKNNTest2_1.fit(dataSelectedEncodedBinaryKNNTest2_1)\n",
    "\n",
    "labelsKNNTest2_1 = modelKNNTest2_1.labels_"
   ]
  },
  {
   "cell_type": "markdown",
   "metadata": {},
   "source": [
    "### Teste 2.2\n",
    "\n",
    "**Codificação**: One-Hot"
   ]
  },
  {
   "cell_type": "code",
   "execution_count": null,
   "metadata": {},
   "outputs": [],
   "source": [
    "# Aplica a codificação One-Hot\n",
    "dataSelectedEncodedOneHotKNNTest2_2 = pd.get_dummies(dataSelectedKNNTest2)\n",
    "\n",
    "# Definição de com quantos clusters será testado.\n",
    "numbersOfNeighborsKNNTest2_2 = range(1, 15)\n",
    "\n",
    "# Vetores para armazenar os \"custos\" (medida quantitativa de quão bem os clusters foram formados em termos de homogeneidade interna) para o K-Means\n",
    "inertiaRandomTest2_2 = []\n",
    "inertiaKNNTest2_2 = []"
   ]
  },
  {
   "cell_type": "code",
   "execution_count": null,
   "metadata": {},
   "outputs": [],
   "source": [
    "# Calculando a inertia para a inicialização 'random'\n",
    "for clustersNumber in numbersOfNeighborsKNNTest2_2:\n",
    "    KNN_random = KNN(n_clusters=clustersNumber, init='random', random_state=42, n_init = 1, max_iter = numeroDeEpocas, algorithm = 'lloyd', verbose=0)\n",
    "    KNN_random.fit(dataSelectedEncodedOneHotKNNTest2_2)\n",
    "    inertiaRandomTest2_2.append(KNN_random.inertia_)"
   ]
  },
  {
   "cell_type": "code",
   "execution_count": null,
   "metadata": {},
   "outputs": [],
   "source": [
    "# Calculando a inertia para a inicialização 'k-means++'\n",
    "for clustersNumber in numbersOfNeighborsKNNTest2_2:\n",
    "    KNN_KNN = KNN(n_clusters=clustersNumber, init='k-means++', random_state=42, n_init = 1, max_iter = numeroDeEpocas, algorithm = 'lloyd', verbose=0)\n",
    "    KNN_KNN.fit(dataSelectedEncodedOneHotKNNTest2_2)\n",
    "    inertiaKNNTest2_2.append(KNN_KNN.inertia_)"
   ]
  },
  {
   "cell_type": "code",
   "execution_count": null,
   "metadata": {},
   "outputs": [],
   "source": [
    "inertiasKNNTest2_2 = pd.DataFrame({\n",
    "    \"Random\" : inertiaRandomTest2_2,\n",
    "    \"K-Means++\" : inertiaKNNTest2_2,\n",
    "    \"Número de Clusters\" : numbersOfNeighborsKNNTest2_2\n",
    "})\n",
    "\n",
    "# Visualização dos custos\n",
    "figKNNTest2_2 = px.line(\n",
    "    inertiasKNNTest2_2, \n",
    "    x = \"Número de Clusters\", \n",
    "    y = [\"Random\", \"K-Means++\"], \n",
    "    title = (\n",
    "        f\"Teste 2.2: Método do Cotovelo para o KNN com até {len(numbersOfNeighborsKNNTest2_2)} clusters. Dataset: {nomeDoArquivo}. Codificação: One-Hot.<br>\"\n",
    "        f\"Linhas com nulo removidas. Colunas: Sexo, Raça\\\\Cor, Faixa Etária e Grau de Instrução (vítima e suspeito). {info}.\"\n",
    "    )\n",
    ")\n",
    "\n",
    "figKNNTest2_2.update_layout(\n",
    "    xaxis_title=\"Número de Clusters\",\n",
    "    yaxis_title=\"Inércia\",\n",
    "    legend_title=\"Método de Inicialização\"\n",
    ")\n",
    "\n",
    "figKNNTest2_2.show()"
   ]
  },
  {
   "cell_type": "code",
   "execution_count": null,
   "metadata": {},
   "outputs": [],
   "source": [
    "# Exportando o gráfico como uma imagem PNG\n",
    "figKNNTest2_2.write_image(f\"KNNTeste2.2{info}.png\", width=1280, height=720)"
   ]
  },
  {
   "cell_type": "code",
   "execution_count": null,
   "metadata": {},
   "outputs": [],
   "source": [
    "modelKNNTest2_2 = KNN(n_clusters=4, init='random', random_state=42, n_init = 1, max_iter = numeroDeEpocas, algorithm = 'lloyd', verbose=0)\n",
    "modelKNNTest2_2.fit(dataSelectedEncodedOneHotKNNTest2_2)\n",
    "\n",
    "labelsKNNTest2_2 = modelKNNTest2_2.labels_"
   ]
  },
  {
   "cell_type": "markdown",
   "metadata": {},
   "source": [
    "## Teste 3\n",
    "\n",
    "Teste de clusterização sobre colunas especificas de perfil apenas da vítima para as duas codificações. Colunas usadas:\n",
    "\n",
    " 'Sexo da vítima', \n",
    " 'Raça\\Cor da vítima',\n",
    " 'Faixa etária da vítima', \n",
    " 'Grau de instrução da vítima', \n"
   ]
  },
  {
   "cell_type": "code",
   "execution_count": null,
   "metadata": {},
   "outputs": [],
   "source": [
    "# Seleciona as colunas que serão utilizadas\n",
    "dataSelectedKNNTest3 = data[['Sexo da vítima',\n",
    "                                'Raça\\\\Cor da vítima',\n",
    "                                'Faixa etária da vítima',\n",
    "                                'Grau de instrução da vítima']].copy()\n",
    "\n",
    "# Visualização dos valores nulos com um heatmap\n",
    "plt.figure(figsize=(20, 10)) \n",
    "sns.heatmap(dataSelectedKNNTest3.isnull(), cbar=False, cmap='viridis')\n",
    "plt.show()\n",
    "\n",
    "numeroDeLinhasComNulo = dataSelectedKNNTest3.isnull().any(axis=1).sum()\n",
    "numeroDeLinhasSemNulo = dataSelectedKNNTest3.notnull().all(axis=1).sum()\n",
    "totalDeLinhas = len(dataSelectedKNNTest3)\n",
    "print(f\"Linhas sem valores nulos: {numeroDeLinhasSemNulo}/{totalDeLinhas} ({numeroDeLinhasSemNulo/totalDeLinhas:.2%})\")\n",
    "\n",
    "# Remove as linhas com valores nulos\n",
    "dataSelectedKNNTest3 = RemoveLinhasComNulos(dataSelectedKNNTest3)"
   ]
  },
  {
   "cell_type": "markdown",
   "metadata": {},
   "source": [
    "### Teste 3.1\n",
    "\n",
    "**Codificação:** Binária"
   ]
  },
  {
   "cell_type": "code",
   "execution_count": null,
   "metadata": {},
   "outputs": [],
   "source": [
    "# Aplica a codificação Binária\n",
    "codificador = ce.BinaryEncoder(cols=dataSelectedKNNTest3.columns)\n",
    "dataSelectedEncodedBinaryKNNTest3_1 = codificador.fit_transform(dataSelectedKNNTest3) \n",
    "\n",
    "# Definição de com quantos clusters será testado.\n",
    "numbersOfNeighborsKNNTest3_1 = range(1, 15)\n",
    "\n",
    "# Vetores para armazenar os \"custos\" (medida quantitativa de quão bem os clusters foram formados em termos de homogeneidade interna) para o K-Means\n",
    "inertiaRandomTest3_1 = []\n",
    "inertiaKNNTest3_1 = []"
   ]
  },
  {
   "cell_type": "code",
   "execution_count": null,
   "metadata": {},
   "outputs": [],
   "source": [
    "# Calculando a inertia para a inicialização 'random'\n",
    "for clustersNumber in numbersOfNeighborsKNNTest3_1:\n",
    "    KNN_random = KNN(n_clusters=clustersNumber, init='random', random_state=42, n_init = 1, max_iter = numeroDeEpocas, algorithm = 'lloyd', verbose=0)\n",
    "    KNN_random.fit(dataSelectedEncodedBinaryKNNTest3_1)\n",
    "    inertiaRandomTest3_1.append(KNN_random.inertia_)"
   ]
  },
  {
   "cell_type": "code",
   "execution_count": null,
   "metadata": {},
   "outputs": [],
   "source": [
    "# Calculando a inertia para a inicialização 'k-means++'\n",
    "for clustersNumber in numbersOfNeighborsKNNTest3_1:\n",
    "    KNN_KNN = KNN(n_clusters=clustersNumber, init='k-means++', random_state=42, n_init = 1, max_iter = numeroDeEpocas, algorithm = 'lloyd', verbose=0)\n",
    "    KNN_KNN.fit(dataSelectedEncodedBinaryKNNTest3_1)\n",
    "    inertiaKNNTest3_1.append(KNN_KNN.inertia_)"
   ]
  },
  {
   "cell_type": "code",
   "execution_count": null,
   "metadata": {},
   "outputs": [],
   "source": [
    "inertiasKNNTest3_1 = pd.DataFrame({\n",
    "    \"Random\" : inertiaRandomTest3_1,\n",
    "    \"K-Means++\" : inertiaKNNTest3_1,\n",
    "    \"Número de Clusters\" : numbersOfNeighborsKNNTest3_1\n",
    "})\n",
    "\n",
    "# Visualização dos custos\n",
    "figKNNTest3_1 = px.line(\n",
    "    inertiasKNNTest3_1, \n",
    "    x = \"Número de Clusters\", \n",
    "    y = [\"Random\", \"K-Means++\"], \n",
    "    title = (\n",
    "        f\"Teste 3.1: Método do Cotovelo para o KNN com até {len(numbersOfNeighborsKNNTest3_1)} clusters. Dataset: {nomeDoArquivo}. Codificação: binária.  <br>\"\n",
    "        f\"Linhas com nulo removidas. Colunas: Sexo, Raça\\\\Cor, Faixa Etária e Grau de Instrução (apenas vítima). {info}.\"\n",
    "    )\n",
    ")\n",
    "\n",
    "figKNNTest3_1.update_layout(\n",
    "    xaxis_title=\"Número de Clusters\",\n",
    "    yaxis_title=\"Inércia\",\n",
    "    legend_title=\"Método de Inicialização\",\n",
    ")\n",
    "\n",
    "figKNNTest3_1.show()"
   ]
  },
  {
   "cell_type": "code",
   "execution_count": null,
   "metadata": {},
   "outputs": [],
   "source": [
    "# Exportando o gráfico como uma imagem PNG\n",
    "figKNNTest3_1.write_image(f\"KNNTeste3.1{info}.png\", width=1280, height=720)"
   ]
  },
  {
   "cell_type": "code",
   "execution_count": null,
   "metadata": {},
   "outputs": [],
   "source": [
    "modelKNNTest3_1 = KNN(n_clusters=4, init='random', random_state=42, n_init = 1, max_iter = numeroDeEpocas, algorithm = 'lloyd', verbose=0)\n",
    "modelKNNTest3_1.fit(dataSelectedEncodedBinaryKNNTest3_1)\n",
    "\n",
    "labelsKNNTest3_1 = modelKNNTest3_1.labels_"
   ]
  },
  {
   "cell_type": "markdown",
   "metadata": {},
   "source": [
    "### Teste 3.2\n",
    "\n",
    "**Codificação:** One-Hot"
   ]
  },
  {
   "cell_type": "code",
   "execution_count": null,
   "metadata": {},
   "outputs": [],
   "source": [
    "# Aplica a codificação One-Hot\n",
    "dataSelectedEncodedOneHotKNNTest3_2 = pd.get_dummies(dataSelectedKNNTest3)\n",
    "\n",
    "# Definição de com quantos clusters será testado.\n",
    "numbersOfNeighborsKNNTest3_2 = range(1, 15)\n",
    "\n",
    "# Vetores para armazenar os \"custos\" (medida quantitativa de quão bem os clusters foram formados em termos de homogeneidade interna) para o K-Means\n",
    "inertiaRandomTest3_2 = []\n",
    "inertiaKNNTest3_2 = []"
   ]
  },
  {
   "cell_type": "code",
   "execution_count": null,
   "metadata": {},
   "outputs": [],
   "source": [
    "# Calculando a inertia para a inicialização 'random'\n",
    "for clustersNumber in numbersOfNeighborsKNNTest3_2:\n",
    "    KNN_random = KNN(n_clusters=clustersNumber, init='random', random_state=42, n_init = 1, max_iter = numeroDeEpocas, algorithm = 'lloyd', verbose=0)\n",
    "    KNN_random.fit(dataSelectedEncodedOneHotKNNTest3_2)\n",
    "    inertiaRandomTest3_2.append(KNN_random.inertia_)"
   ]
  },
  {
   "cell_type": "code",
   "execution_count": null,
   "metadata": {},
   "outputs": [],
   "source": [
    "# Calculando a inertia para a inicialização 'k-means++'\n",
    "for clustersNumber in numbersOfNeighborsKNNTest3_2:\n",
    "    KNN_KNN = KNN(n_clusters=clustersNumber, init='k-means++', random_state=42, n_init = 1, max_iter = numeroDeEpocas, algorithm = 'lloyd', verbose=0)\n",
    "    KNN_KNN.fit(dataSelectedEncodedOneHotKNNTest3_2)\n",
    "    inertiaKNNTest3_2.append(KNN_KNN.inertia_)"
   ]
  },
  {
   "cell_type": "code",
   "execution_count": null,
   "metadata": {},
   "outputs": [],
   "source": [
    "inertiasKNNTest3_2 = pd.DataFrame({\n",
    "    \"Random\" : inertiaRandomTest3_2,\n",
    "    \"K-Means++\" : inertiaKNNTest3_2,\n",
    "    \"Número de Clusters\" : numbersOfNeighborsKNNTest3_2\n",
    "})\n",
    "\n",
    "# Visualização dos custos\n",
    "figKNNTest3_2 = px.line(\n",
    "    inertiasKNNTest3_2, \n",
    "    x = \"Número de Clusters\", \n",
    "    y = [\"Random\", \"K-Means++\"], \n",
    "    title = (\n",
    "        f\"Teste 3.2: Método do Cotovelo para o KNN com até {len(numbersOfNeighborsKNNTest3_2)} clusters. Dataset: {nomeDoArquivo}. Codificação: One-Hot.  <br>\"\n",
    "        f\"Linhas com nulo removidas. Colunas: Sexo, Raça\\\\Cor, Faixa Etária e Grau de Instrução (apenas vítima). {info}.\"\n",
    "    )\n",
    ")\n",
    "\n",
    "figKNNTest3_2.update_layout(\n",
    "    xaxis_title=\"Número de Clusters\",\n",
    "    yaxis_title=\"Inércia\",\n",
    "    legend_title=\"Método de Inicialização\",\n",
    ")\n",
    "\n",
    "figKNNTest3_2.show()"
   ]
  },
  {
   "cell_type": "code",
   "execution_count": null,
   "metadata": {},
   "outputs": [],
   "source": [
    "# Exportando o gráfico como uma imagem PNG\n",
    "figKNNTest3_2.write_image(f\"KNNTeste3.2{info}.png\", width=1280, height=720)"
   ]
  },
  {
   "cell_type": "code",
   "execution_count": null,
   "metadata": {},
   "outputs": [],
   "source": [
    "modelKNNTest3_2 = KNN(n_clusters=4, init='random', random_state=42, n_init = 1, max_iter = numeroDeEpocas, algorithm = 'lloyd', verbose=0)\n",
    "modelKNNTest3_2.fit(dataSelectedEncodedOneHotKNNTest3_2)\n",
    "\n",
    "labelsKNNTest3_2 = modelKNNTest3_2.labels_"
   ]
  },
  {
   "cell_type": "markdown",
   "metadata": {},
   "source": [
    "## Teste 4\n",
    "\n",
    "Teste de clusterização sobre colunas especificas de perfil do suspeito, para as duas codificações. Colunas usadas:\n",
    "\n",
    " 'Sexo do suspeito',\n",
    " 'Raça\\Cor do suspeito', \n",
    " 'Faixa etária do suspeito', \n",
    " 'Grau de instrução do suspeito'"
   ]
  },
  {
   "cell_type": "code",
   "execution_count": null,
   "metadata": {},
   "outputs": [],
   "source": [
    "# Seleciona as colunas que serão utilizadas\n",
    "dataSelectedKNNTest4 = data[['Sexo do suspeito',\n",
    "                                'Raça\\\\Cor do suspeito',\n",
    "                                'Faixa etária do suspeito',\n",
    "                                'Grau de instrução do suspeito']].copy()\n",
    "\n",
    "# Visualização dos valores nulos com um heatmap\n",
    "plt.figure(figsize=(20, 10))\n",
    "sns.heatmap(dataSelectedKNNTest4.isnull(), cbar=False, cmap='viridis')\n",
    "plt.show()\n",
    "\n",
    "numeroDeLinhasComNulo = dataSelectedKNNTest4.isnull().any(axis=1).sum()\n",
    "numeroDeLinhasSemNulo = dataSelectedKNNTest4.notnull().all(axis=1).sum()\n",
    "totalDeLinhas = len(dataSelectedKNNTest4)\n",
    "print(f\"Linhas sem valores nulos: {numeroDeLinhasSemNulo}/{totalDeLinhas} ({numeroDeLinhasSemNulo/totalDeLinhas:.2%})\")\n",
    "\n",
    "# Remove as linhas com valores nulos\n",
    "dataSelectedKNNTest4 = RemoveLinhasComNulos(dataSelectedKNNTest4)"
   ]
  },
  {
   "cell_type": "markdown",
   "metadata": {},
   "source": [
    "### Teste 4.1\n",
    "\n",
    "**Codificação:** Binária"
   ]
  },
  {
   "cell_type": "code",
   "execution_count": null,
   "metadata": {},
   "outputs": [],
   "source": [
    "# Aplica a codificação Binária\n",
    "codificador = ce.BinaryEncoder(cols=dataSelectedKNNTest4.columns)\n",
    "dataSelectedEncodedBinaryKNNTest4_1 = codificador.fit_transform(dataSelectedKNNTest4) \n",
    "\n",
    "# Definição de com quantos clusters será testado.\n",
    "numbersOfNeighborsKNNTest4_1 = range(1, 15)\n",
    "\n",
    "# Vetores para armazenar os \"custos\" (medida quantitativa de quão bem os clusters foram formados em termos de homogeneidade interna) para o K-Means\n",
    "inertiaRandomTest4_1 = []\n",
    "inertiaKNNTest4_1 = []"
   ]
  },
  {
   "cell_type": "code",
   "execution_count": null,
   "metadata": {},
   "outputs": [],
   "source": [
    "# Calculando a inertia para a inicialização 'random'\n",
    "for clustersNumber in numbersOfNeighborsKNNTest4_1:\n",
    "    KNN_random = KNN(n_clusters=clustersNumber, init='random', random_state=42, n_init = 1, max_iter = numeroDeEpocas, algorithm = 'lloyd', verbose=0)\n",
    "    KNN_random.fit(dataSelectedEncodedBinaryKNNTest4_1)\n",
    "    inertiaRandomTest4_1.append(KNN_random.inertia_)"
   ]
  },
  {
   "cell_type": "code",
   "execution_count": null,
   "metadata": {},
   "outputs": [],
   "source": [
    "# Calculando a inertia para a inicialização 'k-means++'\n",
    "for clustersNumber in numbersOfNeighborsKNNTest4_1:\n",
    "    KNN_KNN = KNN(n_clusters=clustersNumber, init='k-means++', random_state=42, n_init = 1, max_iter = numeroDeEpocas, algorithm = 'lloyd', verbose=0)\n",
    "    KNN_KNN.fit(dataSelectedEncodedBinaryKNNTest4_1)\n",
    "    inertiaKNNTest4_1.append(KNN_KNN.inertia_)"
   ]
  },
  {
   "cell_type": "code",
   "execution_count": null,
   "metadata": {},
   "outputs": [],
   "source": [
    "inertiasKNNTest4_1 = pd.DataFrame({\n",
    "    \"Random\" : inertiaRandomTest4_1,\n",
    "    \"K-Means++\" : inertiaKNNTest4_1,\n",
    "    \"Número de Clusters\" : numbersOfNeighborsKNNTest4_1\n",
    "})\n",
    "\n",
    "# Visualização dos custos\n",
    "figKNNTest4_1 = px.line(\n",
    "    inertiasKNNTest4_1, \n",
    "    x = \"Número de Clusters\", \n",
    "    y = [\"Random\", \"K-Means++\"], \n",
    "    title = (\n",
    "        f\"Teste 4.1: Método do Cotovelo para o KNN com até {len(numbersOfNeighborsKNNTest4_1)} clusters. Dataset: {nomeDoArquivo}. Codificação: binária.  <br>\"\n",
    "        f\"Linhas com nulo removidas. Colunas: Sexo, Raça\\\\Cor, Faixa Etária e Grau de Instrução (apenas suspeito). {info}.\"\n",
    "    )\n",
    ")\n",
    "\n",
    "figKNNTest4_1.update_layout(\n",
    "    xaxis_title=\"Número de Clusters\",\n",
    "    yaxis_title=\"Inércia\",\n",
    "    legend_title=\"Método de Inicialização\",\n",
    ")\n",
    "\n",
    "figKNNTest4_1.show()"
   ]
  },
  {
   "cell_type": "code",
   "execution_count": null,
   "metadata": {},
   "outputs": [],
   "source": [
    "# Exportando o gráfico como uma imagem PNG\n",
    "figKNNTest4_1.write_image(f\"KNNTeste4.1{info}.png\", width=1280, height=720)"
   ]
  },
  {
   "cell_type": "code",
   "execution_count": null,
   "metadata": {},
   "outputs": [],
   "source": [
    "modelKNNTest4_1 = KNN(n_clusters=4, init='random', random_state=42, n_init = 1, max_iter = numeroDeEpocas, algorithm = 'lloyd', verbose=0)\n",
    "modelKNNTest4_1.fit(dataSelectedEncodedBinaryKNNTest4_1)\n",
    "\n",
    "labelsKNNTest4_1 = modelKNNTest4_1.labels_"
   ]
  },
  {
   "cell_type": "markdown",
   "metadata": {},
   "source": [
    "### Teste 4.2\n",
    "\n",
    "**Codificação:** One-Hot"
   ]
  },
  {
   "cell_type": "code",
   "execution_count": null,
   "metadata": {},
   "outputs": [],
   "source": [
    "# Aplica a codificação One-Hot\n",
    "dataSelectedEncodedOneHotKNNTest4_2 = pd.get_dummies(dataSelectedKNNTest4)\n",
    "\n",
    "# Definição de com quantos clusters será testado.\n",
    "numbersOfNeighborsKNNTest4_2 = range(1, 15)\n",
    "\n",
    "# Vetores para armazenar os \"custos\" (medida quantitativa de quão bem os clusters foram formados em termos de homogeneidade interna) para o K-Means\n",
    "inertiaRandomTest4_2 = []\n",
    "inertiaKNNTest4_2 = []"
   ]
  },
  {
   "cell_type": "code",
   "execution_count": null,
   "metadata": {},
   "outputs": [],
   "source": [
    "# Calculando a inertia para a inicialização 'random'\n",
    "for clustersNumber in numbersOfNeighborsKNNTest4_2:\n",
    "    KNN_random = KNN(n_clusters=clustersNumber, init='random', random_state=42, n_init = 1, max_iter = numeroDeEpocas, algorithm = 'lloyd', verbose=0)\n",
    "    KNN_random.fit(dataSelectedEncodedOneHotKNNTest4_2)\n",
    "    inertiaRandomTest4_2.append(KNN_random.inertia_)"
   ]
  },
  {
   "cell_type": "code",
   "execution_count": null,
   "metadata": {},
   "outputs": [],
   "source": [
    "# Calculando a inertia para a inicialização 'k-means++'\n",
    "for clustersNumber in numbersOfNeighborsKNNTest4_2:\n",
    "    KNN_KNN = KNN(n_clusters=clustersNumber, init='k-means++', random_state=42, n_init = 1, max_iter = numeroDeEpocas, algorithm = 'lloyd', verbose=0)\n",
    "    KNN_KNN.fit(dataSelectedEncodedOneHotKNNTest4_2)\n",
    "    inertiaKNNTest4_2.append(KNN_KNN.inertia_)"
   ]
  },
  {
   "cell_type": "code",
   "execution_count": null,
   "metadata": {},
   "outputs": [],
   "source": [
    "inertiasKNNTest4_2 = pd.DataFrame({\n",
    "    \"Random\" : inertiaRandomTest4_2,\n",
    "    \"K-Means++\" : inertiaKNNTest4_2,\n",
    "    \"Número de Clusters\" : numbersOfNeighborsKNNTest4_2\n",
    "})\n",
    "\n",
    "# Visualização dos custos\n",
    "figKNNTest4_2 = px.line(\n",
    "    inertiasKNNTest4_2, \n",
    "    x = \"Número de Clusters\", \n",
    "    y = [\"Random\", \"K-Means++\"], \n",
    "    title = (\n",
    "        f\"Teste 4.2: Método do Cotovelo para o KNN com até {len(numbersOfNeighborsKNNTest4_2)} clusters. Dataset: {nomeDoArquivo}. Codificação: One-Hot.  <br>\"\n",
    "        f\"Linhas com nulo removidas. Colunas: Sexo, Raça\\\\Cor, Faixa Etária e Grau de Instrução (apenas suspeito). {info}.\"\n",
    "    )\n",
    ")\n",
    "\n",
    "figKNNTest4_2.update_layout(\n",
    "    xaxis_title=\"Número de Clusters\",\n",
    "    yaxis_title=\"Inércia\",\n",
    "    legend_title=\"Método de Inicialização\",\n",
    ")\n",
    "\n",
    "figKNNTest4_2.show()"
   ]
  },
  {
   "cell_type": "code",
   "execution_count": null,
   "metadata": {},
   "outputs": [],
   "source": [
    "# Exportando o gráfico como uma imagem PNG\n",
    "figKNNTest4_2.write_image(f\"KNNTeste4.2{info}.png\", width=1280, height=720)"
   ]
  },
  {
   "cell_type": "code",
   "execution_count": null,
   "metadata": {},
   "outputs": [],
   "source": [
    "modelKNNTest4_2 = KNN(n_clusters=4, init='random', random_state=42, n_init = 1, max_iter = numeroDeEpocas, algorithm = 'lloyd', verbose=0)\n",
    "modelKNNTest4_2.fit(dataSelectedEncodedOneHotKNNTest4_2)\n",
    "\n",
    "labelsKNNTest4_2 = modelKNNTest4_2.labels_"
   ]
  }
 ],
 "metadata": {
  "kernelspec": {
   "display_name": "base",
   "language": "python",
   "name": "python3"
  },
  "language_info": {
   "codemirror_mode": {
    "name": "ipython",
    "version": 3
   },
   "file_extension": ".py",
   "mimetype": "text/x-python",
   "name": "python",
   "nbconvert_exporter": "python",
   "pygments_lexer": "ipython3",
   "version": "3.12.4"
  }
 },
 "nbformat": 4,
 "nbformat_minor": 2
}
